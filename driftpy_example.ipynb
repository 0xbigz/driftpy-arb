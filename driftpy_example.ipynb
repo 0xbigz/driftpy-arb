{
 "cells": [
  {
   "cell_type": "code",
   "execution_count": null,
   "id": "65662974-ddc5-4842-aa89-802c6d8dec0e",
   "metadata": {
    "scrolled": true,
    "tags": []
   },
   "outputs": [],
   "source": [
    "! pip install driftpy"
   ]
  },
  {
   "cell_type": "code",
   "execution_count": null,
   "id": "540515bd-0605-458c-a705-356531309714",
   "metadata": {},
   "outputs": [],
   "source": [
    "%reload_ext autoreload\n",
    "%autoreload 2\n",
    "\n",
    "import pandas as pd\n",
    "pd.options.plotting.backend = \"plotly\""
   ]
  },
  {
   "cell_type": "code",
   "execution_count": null,
   "id": "df0c1d26-aae9-4232-be66-5e2df52bf704",
   "metadata": {},
   "outputs": [],
   "source": [
    "DRIFT_CONFIG = {\n",
    "    'devnet': {\n",
    "        'ENV': 'devnet',\n",
    "        'URL': 'https://api.devnet.solana.com/',\n",
    "        'IDL_URL':'https://raw.githubusercontent.com/drift-labs/protocol-v1/master/sdk/src/idl/clearing_house.json',\n",
    "\t\t'PYTH_ORACLE_MAPPING_ADDRESS': 'BmA9Z6FjioHJPpjT39QazZyhDRUdZy2ezwx4GiDdE2u2',\n",
    "\t\t'CLEARING_HOUSE_PROGRAM_ID': 'AsW7LnXB9UA1uec9wi9MctYTgTz7YH9snhxd16GsFaGX',\n",
    "\t\t'USDC_MINT_ADDRESS': '8zGuJQqwhZafTah7Uc7Z4tXRnguqkn5KLFAP8oV6PHe2',\n",
    "\t},\n",
    "    'devnet-limits': {\n",
    "        'ENV': 'devnet',\n",
    "        'URL': 'https://api.devnet.solana.com/',\n",
    "        'IDL_URL': 'https://raw.githubusercontent.com/drift-labs/protocol-v1/crispheaney/off-chain-orders/sdk/src/idl/clearing_house.json',\n",
    "\t\t'PYTH_ORACLE_MAPPING_ADDRESS': 'BmA9Z6FjioHJPpjT39QazZyhDRUdZy2ezwx4GiDdE2u2',\n",
    "\t\t'CLEARING_HOUSE_PROGRAM_ID': 'HiZ8CnfEE9LrBZTfc8hBneWrPg1Cbsn8Wdy6SPLfae9V',\n",
    "\t\t'USDC_MINT_ADDRESS': '8zGuJQqwhZafTah7Uc7Z4tXRnguqkn5KLFAP8oV6PHe2',\n",
    "\t},\n",
    "\t'mainnet': {\n",
    "\t\t'ENV': 'mainnet-beta',\n",
    "        'URL': 'https://api.mainnet-beta.solana.com/',\n",
    "        # 'IDL_URL':'',\n",
    "\t\t'PYTH_ORACLE_MAPPING_ADDRESS': 'AHtgzX45WTKfkPG53L6WYhGEXwQkN1BVknET3sVsLL8J',\n",
    "\t\t'CLEARING_HOUSE_PROGRAM_ID': 'dammHkt7jmytvbS3nHTxQNEcP59aE57nxwV21YdqEDN',\n",
    "\t\t'USDC_MINT_ADDRESS': 'EPjFWdd5AufqSSqeM2qN1xzybapC8G4wEGGkZwyTDt1v',\n",
    "\t},\n",
    "}"
   ]
  },
  {
   "cell_type": "markdown",
   "id": "0604276c-39a9-463f-8a3a-fc9f5c32a2b0",
   "metadata": {},
   "source": [
    "# LOAD devnet environment"
   ]
  },
  {
   "cell_type": "code",
   "execution_count": null,
   "id": "281a42ba-5221-4e1f-bbe0-c085a8bb82aa",
   "metadata": {},
   "outputs": [],
   "source": [
    "from solana.publickey import PublicKey\n",
    "from anchorpy import Idl, Program, Provider\n",
    "from driftpy.clearing_house import ClearingHouse\n",
    "from driftpy import idl\n",
    "\n",
    "import os\n",
    "import json\n",
    "import requests\n",
    "\n",
    "def load_program(ENV):\n",
    "    CH_PID = DRIFT_CONFIG[ENV].get('CLEARING_HOUSE_PROGRAM_ID')\n",
    "    IDL_JSON = None\n",
    "    IDL_URL = DRIFT_CONFIG[ENV].get('IDL_URL', None)\n",
    "    if IDL_URL is None:\n",
    "        IDL_JSON = ClearingHouse.local_idl()\n",
    "    else:\n",
    "        print('requesting from', IDL_URL)\n",
    "        IDL_JSON =  Idl.from_json(requests.request(\"GET\", IDL_URL).json())\n",
    "        \n",
    "    # if \"ANCHOR_PROVIDER_URL\" not in os.environ:\n",
    "    os.environ[\"ANCHOR_PROVIDER_URL\"] =  DRIFT_CONFIG[ENV].get('URL')\n",
    "\n",
    "    # TODO: override path to wallet below\n",
    "    os.environ[\"ANCHOR_WALLET\"] = os.path.expanduser(\"~/.config/solana/<WALLET>.json\") \n",
    "    #del os.environ[\"ANCHOR_WALLET\"]    \n",
    "\n",
    "    # Address of the deployed program.\n",
    "    program = Program(IDL_JSON,  PublicKey(CH_PID), Provider.env())\n",
    "    return program\n",
    "\n",
    "# program = load_program('devnet-limits') \n",
    "program = load_program('devnet')"
   ]
  },
  {
   "cell_type": "code",
   "execution_count": null,
   "id": "0185c9a0-fd6d-4db6-a856-375887b90578",
   "metadata": {},
   "outputs": [],
   "source": [
    "from driftpy.clearing_house import ClearingHouse\n",
    "\n",
    "drift_acct = await ClearingHouse.create(program)\n",
    "\n",
    "# check if user account exists\n",
    "try:\n",
    "    drift_user_acct = await drift_acct.get_user_account()\n",
    "except Exception as e:\n",
    "    print('Error:', e)"
   ]
  },
  {
   "cell_type": "markdown",
   "id": "b8ecee2a-f578-41de-808a-66d6498aa57f",
   "metadata": {},
   "source": [
    "# load user state info"
   ]
  },
  {
   "cell_type": "code",
   "execution_count": null,
   "id": "e81d5abd-1d92-4dc2-aa20-2e3a95be831c",
   "metadata": {},
   "outputs": [],
   "source": [
    "from typing import Optional, TypeVar, Type, cast\n",
    "from driftpy.types import (\n",
    "    PositionDirection,\n",
    "    StateAccount,\n",
    "    MarketsAccount,\n",
    "    FundingPaymentHistoryAccount,\n",
    "    FundingRateHistoryAccount,\n",
    "    TradeHistoryAccount,\n",
    "    LiquidationHistoryAccount,\n",
    "    DepositHistoryAccount,\n",
    "    ExtendedCurveHistoryAccount,\n",
    "    User,\n",
    "    UserPositions,\n",
    ")\n",
    "from driftpy.constants.markets import MARKETS\n",
    "from driftpy.constants.numeric_constants import MARK_PRICE_PRECISION\n",
    "\n",
    "#todo\n",
    "QUOTE_PRECISION = 1e6\n",
    "AMM_PRECISION = 1e13"
   ]
  },
  {
   "cell_type": "code",
   "execution_count": null,
   "id": "99201be4-0f54-40df-b5cd-ea8573a31172",
   "metadata": {},
   "outputs": [],
   "source": [
    "balance = (drift_user_acct.collateral/1e6)\n",
    "balance"
   ]
  },
  {
   "cell_type": "code",
   "execution_count": null,
   "id": "ad3611ee-3652-4efb-ba27-9fa753e31b78",
   "metadata": {},
   "outputs": [],
   "source": [
    "# load user positions\n",
    "positions = cast(\n",
    "                UserPositions,\n",
    "                await program.account[\"UserPositions\"].fetch(\n",
    "                    drift_user_acct.positions\n",
    "                ),\n",
    "            )\n",
    "positions_df = pd.DataFrame(positions.positions)[['market_index', 'base_asset_amount', 'quote_asset_amount']]\n",
    "positions_df['base_asset_amount'] /= AMM_PRECISION\n",
    "positions_df['quote_asset_amount'] /= QUOTE_PRECISION\n",
    "positions_df = pd.DataFrame(MARKETS)[['symbol', 'market_index']].merge(positions_df)\n",
    "positions_df"
   ]
  },
  {
   "cell_type": "markdown",
   "id": "175d87b1-d844-4473-99f4-bd1515b16d93",
   "metadata": {},
   "source": [
    "# load predicted funding"
   ]
  },
  {
   "cell_type": "code",
   "execution_count": null,
   "id": "82f7aeb8-b714-422a-8d7a-6beb7cfb93b1",
   "metadata": {},
   "outputs": [],
   "source": [
    "from datetime import datetime, timedelta\n",
    "\n",
    "markets = await drift_acct.get_markets_account()\n",
    "\n",
    "def calculate_market_summary(markets):\n",
    "    \n",
    "    FUNDING_PRECISION = 1e4\n",
    "    \n",
    "    markets_summary = pd.concat([\n",
    "        pd.DataFrame(MARKETS).iloc[:,:3],\n",
    "    pd.DataFrame(markets.markets),\n",
    "    pd.DataFrame([x.amm for x in markets.markets]),           \n",
    "              ],axis=1).dropna(subset=['symbol'])\n",
    "\n",
    "    last_funding_ts = pd.to_datetime(markets.markets[0].amm.last_funding_rate_ts*1e9)\n",
    "    next_funding_ts = last_funding_ts + timedelta(hours=1)\n",
    "    next_funding_ts\n",
    "\n",
    "    summary = {}\n",
    "    summary['next_funding_rate'] = (markets_summary['last_mark_price_twap'] \\\n",
    "                         - markets_summary['last_oracle_price_twap'])\\\n",
    "    /markets_summary['last_oracle_price_twap']/24\n",
    "    \n",
    "    summary['next_funding_rate(%APR)'] = (summary['next_funding_rate'] * 24 * 365.25 * 100).round(2)\n",
    "    \n",
    "    summary['mark_price'] = (markets_summary['quote_asset_reserve'] \\\n",
    "                         /markets_summary['base_asset_reserve'])\\\n",
    "    *markets_summary['peg_multiplier']/1e3\n",
    "    \n",
    "    return pd.concat([pd.DataFrame(MARKETS).iloc[:,:3], pd.DataFrame(summary)],axis=1)"
   ]
  },
  {
   "cell_type": "code",
   "execution_count": null,
   "id": "195a56e8-ddfb-4e9c-b835-57692798acd0",
   "metadata": {},
   "outputs": [],
   "source": [
    "calculate_market_summary(markets)"
   ]
  },
  {
   "cell_type": "markdown",
   "id": "6aed881c-fc12-4c2e-9b76-ef617a9a185c",
   "metadata": {},
   "source": [
    "# todo: load oracle"
   ]
  },
  {
   "cell_type": "code",
   "execution_count": null,
   "id": "5a6ea614-abc4-4476-8310-38446bfb15d7",
   "metadata": {},
   "outputs": [],
   "source": [
    "# !pip install pythclient"
   ]
  },
  {
   "cell_type": "code",
   "execution_count": null,
   "id": "308a46c6-728f-4cf5-b320-2577db150549",
   "metadata": {},
   "outputs": [],
   "source": [
    "from pythclient.pythclient import PythClient  # noqa\n",
    "from pythclient.ratelimit import RateLimit  # noqa\n",
    "from pythclient.pythaccounts import PythPriceAccount  # noqa\n",
    "from pythclient.utils import get_key # noqa\n",
    "\n",
    "v2_first_mapping_account_key = get_key(\"mainnet\", \"mapping\")\n",
    "v2_program_key = get_key(\"mainnet\", \"program\")\n",
    "\n",
    "pythC = PythClient(\n",
    "        first_mapping_account_key=v2_first_mapping_account_key,\n",
    "        program_key=None, #v2_program_key,\n",
    "    ) \n",
    "\n",
    "await pythC.refresh_all_prices()\n",
    "        # await c.refresh_all_prices()\n",
    "        # products = await c.get_products()\n",
    "        # all_prices: List[PythPriceAccount] = []\n",
    "        # for p in products:\n",
    "        #     print(p.key, p.attrs)\n",
    "        #     prices = await p.get_prices()\n",
    "        #     for _, pr in prices.items():\n",
    "        #         all_prices.append(pr)\n",
    "        #         print(\n",
    "        #             pr.key,\n",
    "        #             pr.product_account_key,\n",
    "        #             pr.price_type,\n",
    "        #             pr.aggregate_price,\n",
    "        #             \"p/m\",\n",
    "        #             pr.aggregate_price_confidence_interval,\n",
    "        #         )"
   ]
  },
  {
   "cell_type": "code",
   "execution_count": null,
   "id": "f1b345c8-c48e-42fc-aff4-104bb3befa01",
   "metadata": {},
   "outputs": [],
   "source": []
  },
  {
   "cell_type": "code",
   "execution_count": null,
   "id": "a026dbc8-378d-4b19-a3be-a3528eee4fd7",
   "metadata": {},
   "outputs": [],
   "source": []
  }
 ],
 "metadata": {
  "kernelspec": {
   "display_name": "Python 3.10.0 64-bit ('venv': venv)",
   "language": "python",
   "name": "python3100jvsc74a57bd0f9a55105823872d65e726b0cbb71e86ec4c59adbf774b41cfbf31de1872e13e3"
  },
  "language_info": {
   "codemirror_mode": {
    "name": "ipython",
    "version": 3
   },
   "file_extension": ".py",
   "mimetype": "text/x-python",
   "name": "python",
   "nbconvert_exporter": "python",
   "pygments_lexer": "ipython3",
   "version": "3.10.0"
  }
 },
 "nbformat": 4,
 "nbformat_minor": 5
}
