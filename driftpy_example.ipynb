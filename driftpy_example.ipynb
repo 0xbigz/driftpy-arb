{
 "cells": [
  {
   "cell_type": "code",
   "execution_count": null,
   "id": "91d4677e-b65b-46a6-a7d1-891553bf64e4",
   "metadata": {},
   "outputs": [],
   "source": [
    "# import sys\n",
    "# sys.path.insert(0, 'driftpy/src/')\n",
    "# import driftpy\n",
    "# driftpy.__file__"
   ]
  },
  {
   "cell_type": "code",
   "execution_count": null,
   "id": "540515bd-0605-458c-a705-356531309714",
   "metadata": {},
   "outputs": [],
   "source": [
    "%reload_ext autoreload\n",
    "%autoreload 2\n",
    "\n",
    "import pandas as pd\n",
    "import numpy as np\n",
    "pd.options.plotting.backend = \"plotly\""
   ]
  },
  {
   "cell_type": "markdown",
   "id": "0604276c-39a9-463f-8a3a-fc9f5c32a2b0",
   "metadata": {},
   "source": [
    "# LOAD devnet environment"
   ]
  },
  {
   "cell_type": "code",
   "execution_count": null,
   "id": "a2a6a7cf-c0b9-41e7-9361-38734592a885",
   "metadata": {},
   "outputs": [],
   "source": [
    "import os\n",
    "from driftpy.clearing_house import ClearingHouse\n",
    "from driftpy.clearing_house_user import ClearingHouseUser\n",
    "\n",
    "from arb_helpers import load_position_table, calculate_market_summary\n",
    "\n",
    "os.environ['ANCHOR_WALLET'] = os.path.expanduser('~/.config/solana/<YOURWALLET>.json')\n",
    "\n",
    "drift_acct = await ClearingHouse.create_from_env('mainnet')\n",
    "drift_user = ClearingHouseUser(drift_acct, drift_acct.program.provider.wallet.public_key)"
   ]
  },
  {
   "cell_type": "code",
   "execution_count": null,
   "id": "7c440a35-18ea-4101-9b31-0a220805d1ea",
   "metadata": {},
   "outputs": [],
   "source": [
    "# pd.DataFrame((await drift_user.get_user_positions_account()).positions)"
   ]
  },
  {
   "cell_type": "code",
   "execution_count": null,
   "id": "402df59a-4012-45e3-9ad8-c3a7971d0601",
   "metadata": {},
   "outputs": [],
   "source": [
    "# market = await drift_user.clearing_house.get_market(0)\n",
    "# (await drift_user.get_position_value(0))/1e6"
   ]
  },
  {
   "cell_type": "markdown",
   "id": "b8ecee2a-f578-41de-808a-66d6498aa57f",
   "metadata": {},
   "source": [
    "# load user state info"
   ]
  },
  {
   "cell_type": "code",
   "execution_count": null,
   "id": "99201be4-0f54-40df-b5cd-ea8573a31172",
   "metadata": {},
   "outputs": [],
   "source": [
    "drift_user_acct = await drift_user.get_user_account()\n",
    "balance = (drift_user_acct.collateral/1e6)\n",
    "balance"
   ]
  },
  {
   "cell_type": "code",
   "execution_count": null,
   "id": "7ba5d7b0",
   "metadata": {},
   "outputs": [],
   "source": [
    "position_table_df = await load_position_table(drift_acct)\n",
    "position_table_df"
   ]
  },
  {
   "cell_type": "code",
   "execution_count": null,
   "id": "07dbc90f",
   "metadata": {},
   "outputs": [],
   "source": [
    "QUOTE_PRECISION = 1e6\n",
    "async def get_margin_account_info(drift_user):\n",
    "    drift_user_acct = await drift_user.get_user_account()\n",
    "    margin_info = {}\n",
    "    margin_info['total_collateral'] = (await drift_user.get_total_collateral())/QUOTE_PRECISION\n",
    "    margin_info['collateral'] = (drift_user_acct.collateral/QUOTE_PRECISION)\n",
    "    margin_info['unrealised_pnl'] = (await drift_user.get_unrealised_pnl(0))/QUOTE_PRECISION\n",
    "    # margin_info['margin_ratio'] = await drift_user.get_margin_ratio()\n",
    "    margin_info['leverage'] = await drift_user.get_leverage()\n",
    "    # margin_info['free_collateral'] = (await drift_user.get_free_collateral())/QUOTE_PRECISION\n",
    "    return pd.Series(margin_info)\n",
    "\n",
    "await get_margin_account_info(drift_user)"
   ]
  },
  {
   "cell_type": "code",
   "execution_count": null,
   "id": "c86f481b",
   "metadata": {},
   "outputs": [],
   "source": [
    "drift_state = await drift_acct.get_state_account()\n",
    "\n",
    "# example deposit/withdrawl\n",
    "USDC_AMOUNT = 1\n",
    "await drift_acct.deposit_collateral(int(USDC_AMOUNT * QUOTE_PRECISION), drift_state.collateral_vault)\n",
    "await drift_acct.withdraw_collateral(int(USDC_AMOUNT * QUOTE_PRECISION), drift_state.collateral_vault)"
   ]
  },
  {
   "cell_type": "markdown",
   "id": "175d87b1-d844-4473-99f4-bd1515b16d93",
   "metadata": {},
   "source": [
    "# load predicted funding"
   ]
  },
  {
   "cell_type": "code",
   "execution_count": null,
   "id": "195a56e8-ddfb-4e9c-b835-57692798acd0",
   "metadata": {
    "scrolled": true,
    "tags": []
   },
   "outputs": [],
   "source": [
    "markets = await drift_acct.get_markets_account()\n",
    "market_summary = await calculate_market_summary(markets)"
   ]
  },
  {
   "cell_type": "code",
   "execution_count": null,
   "id": "ad5f1973-a92a-457c-9ab7-968522d8fbec",
   "metadata": {},
   "outputs": [],
   "source": [
    "market_summary"
   ]
  },
  {
   "cell_type": "code",
   "execution_count": null,
   "id": "d693b33e",
   "metadata": {},
   "outputs": [],
   "source": [
    "position_table_df"
   ]
  },
  {
   "cell_type": "code",
   "execution_count": null,
   "id": "fcb299b1",
   "metadata": {},
   "outputs": [],
   "source": [
    "await drift_acct.close_position(0)"
   ]
  },
  {
   "cell_type": "code",
   "execution_count": null,
   "id": "82395fb5-eddc-485a-a835-03422e4152a6",
   "metadata": {},
   "outputs": [],
   "source": [
    "from driftpy.types import PositionDirection\n",
    "# open a $1 LONG position in the most attractive markets for next funding\n",
    "market_to_trade = market_summary.sort_values('next_funding_rate(%)').iloc[0].market_index\n",
    "\n",
    "await drift_acct.open_position(PositionDirection.LONG(), int(1 * 1e6), market_to_trade)"
   ]
  },
  {
   "cell_type": "code",
   "execution_count": null,
   "id": "bfd76669-9ac7-45d8-a02f-030f31e4bff9",
   "metadata": {},
   "outputs": [],
   "source": [
    "from driftpy.constants.config import CONFIG\n",
    "CONFIG['mainnet']"
   ]
  },
  {
   "cell_type": "code",
   "execution_count": null,
   "id": "9de12fed-89d2-492b-9a74-facc0152b10b",
   "metadata": {},
   "outputs": [],
   "source": []
  },
  {
   "cell_type": "code",
   "execution_count": null,
   "id": "59bbcef7-9195-4973-8a75-5b1d2d979cc2",
   "metadata": {},
   "outputs": [],
   "source": []
  }
 ],
 "metadata": {
  "interpreter": {
   "hash": "3fa7d699c2b17d804b5961ff26a0ff5e55c3cd2be4e9e99d9def1c2e93ac5e45"
  },
  "kernelspec": {
   "display_name": "Python 3.10.0 64-bit ('venv': venv)",
   "language": "python",
   "name": "python3"
  },
  "language_info": {
   "codemirror_mode": {
    "name": "ipython",
    "version": 3
   },
   "file_extension": ".py",
   "mimetype": "text/x-python",
   "name": "python",
   "nbconvert_exporter": "python",
   "pygments_lexer": "ipython3",
   "version": "3.10.0"
  }
 },
 "nbformat": 4,
 "nbformat_minor": 5
}
