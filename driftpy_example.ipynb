{
 "cells": [
  {
   "cell_type": "code",
   "execution_count": 1,
   "id": "65662974-ddc5-4842-aa89-802c6d8dec0e",
   "metadata": {
    "scrolled": true,
    "tags": []
   },
   "outputs": [
    {
     "name": "stdout",
     "output_type": "stream",
     "text": [
      "Requirement already satisfied: driftpy in ./venv/lib/python3.10/site-packages (0.1.0)\n",
      "Requirement already satisfied: anchorpy<0.7.0,>=0.6.5 in ./venv/lib/python3.10/site-packages (from driftpy) (0.6.5)\n",
      "Requirement already satisfied: solana<0.22.0,>=0.21.0 in ./venv/lib/python3.10/site-packages (from driftpy) (0.21.0)\n",
      "Requirement already satisfied: pyheck<0.2.0,>=0.1.4 in ./venv/lib/python3.10/site-packages (from anchorpy<0.7.0,>=0.6.5->driftpy) (0.1.4)\n",
      "Requirement already satisfied: pytest-xprocess<0.19.0,>=0.18.1 in ./venv/lib/python3.10/site-packages (from anchorpy<0.7.0,>=0.6.5->driftpy) (0.18.1)\n",
      "Requirement already satisfied: websockets<11.0,>=10.0 in ./venv/lib/python3.10/site-packages (from anchorpy<0.7.0,>=0.6.5->driftpy) (10.1)\n",
      "Requirement already satisfied: apischema<0.17.0,>=0.16.6 in ./venv/lib/python3.10/site-packages (from anchorpy<0.7.0,>=0.6.5->driftpy) (0.16.6)\n",
      "Requirement already satisfied: pytest<7.0.0,>=6.2.5 in ./venv/lib/python3.10/site-packages (from anchorpy<0.7.0,>=0.6.5->driftpy) (6.2.5)\n",
      "Requirement already satisfied: toolz<0.12.0,>=0.11.2 in ./venv/lib/python3.10/site-packages (from anchorpy<0.7.0,>=0.6.5->driftpy) (0.11.2)\n",
      "Requirement already satisfied: borsh-construct<0.2.0,>=0.1.0 in ./venv/lib/python3.10/site-packages (from anchorpy<0.7.0,>=0.6.5->driftpy) (0.1.0)\n",
      "Requirement already satisfied: construct-typing<0.6.0,>=0.5.1 in ./venv/lib/python3.10/site-packages (from anchorpy<0.7.0,>=0.6.5->driftpy) (0.5.2)\n",
      "Requirement already satisfied: jsonrpcclient<5.0.0,>=4.0.1 in ./venv/lib/python3.10/site-packages (from anchorpy<0.7.0,>=0.6.5->driftpy) (4.0.1)\n",
      "Requirement already satisfied: more-itertools<9.0.0,>=8.11.0 in ./venv/lib/python3.10/site-packages (from anchorpy<0.7.0,>=0.6.5->driftpy) (8.12.0)\n",
      "Requirement already satisfied: pytest-asyncio<0.18.0,>=0.17.2 in ./venv/lib/python3.10/site-packages (from anchorpy<0.7.0,>=0.6.5->driftpy) (0.17.2)\n",
      "Requirement already satisfied: sumtypes<0.2,>=0.1a6 in ./venv/lib/python3.10/site-packages (from anchorpy<0.7.0,>=0.6.5->driftpy) (0.1a6)\n",
      "Requirement already satisfied: zstandard<0.17.0,>=0.16.0 in ./venv/lib/python3.10/site-packages (from anchorpy<0.7.0,>=0.6.5->driftpy) (0.16.0)\n",
      "Requirement already satisfied: types-cachetools<5.0.0,>=4.2.4 in ./venv/lib/python3.10/site-packages (from solana<0.22.0,>=0.21.0->driftpy) (4.2.6)\n",
      "Requirement already satisfied: typing-extensions<4.0.0,>=3.10.0 in ./venv/lib/python3.10/site-packages (from solana<0.22.0,>=0.21.0->driftpy) (3.10.0.2)\n",
      "Requirement already satisfied: base58<3.0.0,>=2.0.1 in ./venv/lib/python3.10/site-packages (from solana<0.22.0,>=0.21.0->driftpy) (2.1.1)\n",
      "Requirement already satisfied: httpx<0.19.0,>=0.18.2 in ./venv/lib/python3.10/site-packages (from solana<0.22.0,>=0.21.0->driftpy) (0.18.2)\n",
      "Requirement already satisfied: requests<3.0,>=2.24 in ./venv/lib/python3.10/site-packages (from solana<0.22.0,>=0.21.0->driftpy) (2.26.0)\n",
      "Requirement already satisfied: PyNaCl<2.0.0,>=1.4.0 in ./venv/lib/python3.10/site-packages (from solana<0.22.0,>=0.21.0->driftpy) (1.4.0)\n",
      "Requirement already satisfied: cachetools<5.0.0,>=4.2.2 in ./venv/lib/python3.10/site-packages (from solana<0.22.0,>=0.21.0->driftpy) (4.2.4)\n",
      "Requirement already satisfied: jsonrpcserver<6.0.0,>=5.0.4 in ./venv/lib/python3.10/site-packages (from solana<0.22.0,>=0.21.0->driftpy) (5.0.6)\n",
      "Requirement already satisfied: construct==2.10.67 in ./venv/lib/python3.10/site-packages (from construct-typing<0.6.0,>=0.5.1->anchorpy<0.7.0,>=0.6.5->driftpy) (2.10.67)\n",
      "Requirement already satisfied: sniffio in ./venv/lib/python3.10/site-packages (from httpx<0.19.0,>=0.18.2->solana<0.22.0,>=0.21.0->driftpy) (1.2.0)\n",
      "Requirement already satisfied: httpcore<0.14.0,>=0.13.3 in ./venv/lib/python3.10/site-packages (from httpx<0.19.0,>=0.18.2->solana<0.22.0,>=0.21.0->driftpy) (0.13.7)\n",
      "Requirement already satisfied: certifi in ./venv/lib/python3.10/site-packages (from httpx<0.19.0,>=0.18.2->solana<0.22.0,>=0.21.0->driftpy) (2021.10.8)\n",
      "Requirement already satisfied: rfc3986[idna2008]<2,>=1.3 in ./venv/lib/python3.10/site-packages (from httpx<0.19.0,>=0.18.2->solana<0.22.0,>=0.21.0->driftpy) (1.5.0)\n",
      "Requirement already satisfied: jsonschema<4 in ./venv/lib/python3.10/site-packages (from jsonrpcserver<6.0.0,>=5.0.4->solana<0.22.0,>=0.21.0->driftpy) (3.2.0)\n",
      "Requirement already satisfied: oslash<1 in ./venv/lib/python3.10/site-packages (from jsonrpcserver<6.0.0,>=5.0.4->solana<0.22.0,>=0.21.0->driftpy) (0.6.3)\n",
      "Requirement already satisfied: cffi>=1.4.1 in ./venv/lib/python3.10/site-packages (from PyNaCl<2.0.0,>=1.4.0->solana<0.22.0,>=0.21.0->driftpy) (1.15.0)\n",
      "Requirement already satisfied: six in ./venv/lib/python3.10/site-packages (from PyNaCl<2.0.0,>=1.4.0->solana<0.22.0,>=0.21.0->driftpy) (1.16.0)\n",
      "Requirement already satisfied: packaging in ./venv/lib/python3.10/site-packages (from pytest<7.0.0,>=6.2.5->anchorpy<0.7.0,>=0.6.5->driftpy) (21.3)\n",
      "Requirement already satisfied: iniconfig in ./venv/lib/python3.10/site-packages (from pytest<7.0.0,>=6.2.5->anchorpy<0.7.0,>=0.6.5->driftpy) (1.1.1)\n",
      "Requirement already satisfied: pluggy<2.0,>=0.12 in ./venv/lib/python3.10/site-packages (from pytest<7.0.0,>=6.2.5->anchorpy<0.7.0,>=0.6.5->driftpy) (1.0.0)\n",
      "Requirement already satisfied: toml in ./venv/lib/python3.10/site-packages (from pytest<7.0.0,>=6.2.5->anchorpy<0.7.0,>=0.6.5->driftpy) (0.10.2)\n",
      "Requirement already satisfied: attrs>=19.2.0 in ./venv/lib/python3.10/site-packages (from pytest<7.0.0,>=6.2.5->anchorpy<0.7.0,>=0.6.5->driftpy) (21.2.0)\n",
      "Requirement already satisfied: py>=1.8.2 in ./venv/lib/python3.10/site-packages (from pytest<7.0.0,>=6.2.5->anchorpy<0.7.0,>=0.6.5->driftpy) (1.11.0)\n",
      "Requirement already satisfied: psutil in ./venv/lib/python3.10/site-packages (from pytest-xprocess<0.19.0,>=0.18.1->anchorpy<0.7.0,>=0.6.5->driftpy) (5.8.0)\n",
      "Requirement already satisfied: urllib3<1.27,>=1.21.1 in ./venv/lib/python3.10/site-packages (from requests<3.0,>=2.24->solana<0.22.0,>=0.21.0->driftpy) (1.26.7)\n",
      "Requirement already satisfied: charset-normalizer~=2.0.0 in ./venv/lib/python3.10/site-packages (from requests<3.0,>=2.24->solana<0.22.0,>=0.21.0->driftpy) (2.0.8)\n",
      "Requirement already satisfied: idna<4,>=2.5 in ./venv/lib/python3.10/site-packages (from requests<3.0,>=2.24->solana<0.22.0,>=0.21.0->driftpy) (3.3)\n",
      "Requirement already satisfied: pycparser in ./venv/lib/python3.10/site-packages (from cffi>=1.4.1->PyNaCl<2.0.0,>=1.4.0->solana<0.22.0,>=0.21.0->driftpy) (2.21)\n",
      "Requirement already satisfied: anyio==3.* in ./venv/lib/python3.10/site-packages (from httpcore<0.14.0,>=0.13.3->httpx<0.19.0,>=0.18.2->solana<0.22.0,>=0.21.0->driftpy) (3.4.0)\n",
      "Requirement already satisfied: h11<0.13,>=0.11 in ./venv/lib/python3.10/site-packages (from httpcore<0.14.0,>=0.13.3->httpx<0.19.0,>=0.18.2->solana<0.22.0,>=0.21.0->driftpy) (0.12.0)\n",
      "Requirement already satisfied: setuptools in ./venv/lib/python3.10/site-packages (from jsonschema<4->jsonrpcserver<6.0.0,>=5.0.4->solana<0.22.0,>=0.21.0->driftpy) (58.5.3)\n",
      "Requirement already satisfied: pyrsistent>=0.14.0 in ./venv/lib/python3.10/site-packages (from jsonschema<4->jsonrpcserver<6.0.0,>=5.0.4->solana<0.22.0,>=0.21.0->driftpy) (0.18.0)\n",
      "Requirement already satisfied: pyparsing!=3.0.5,>=2.0.2 in ./venv/lib/python3.10/site-packages (from packaging->pytest<7.0.0,>=6.2.5->anchorpy<0.7.0,>=0.6.5->driftpy) (3.0.6)\n"
     ]
    }
   ],
   "source": [
    "! pip install driftpy"
   ]
  },
  {
   "cell_type": "code",
   "execution_count": 2,
   "id": "540515bd-0605-458c-a705-356531309714",
   "metadata": {},
   "outputs": [],
   "source": [
    "%reload_ext autoreload\n",
    "%autoreload 2\n",
    "\n",
    "import pandas as pd\n",
    "pd.options.plotting.backend = \"plotly\""
   ]
  },
  {
   "cell_type": "code",
   "execution_count": 3,
   "id": "df0c1d26-aae9-4232-be66-5e2df52bf704",
   "metadata": {},
   "outputs": [],
   "source": [
    "drift_configs = {\n",
    "    'devnet': {\n",
    "        'ENV': 'devnet',\n",
    "        'URL': 'https://api.devnet.solana.com/',\n",
    "        'IDL_URL':'https://raw.githubusercontent.com/drift-labs/protocol-v1/master/sdk/src/idl/clearing_house.json',\n",
    "\t\t'PYTH_ORACLE_MAPPING_ADDRESS': 'BmA9Z6FjioHJPpjT39QazZyhDRUdZy2ezwx4GiDdE2u2',\n",
    "\t\t'CLEARING_HOUSE_PROGRAM_ID': 'AsW7LnXB9UA1uec9wi9MctYTgTz7YH9snhxd16GsFaGX',\n",
    "\t\t'USDC_MINT_ADDRESS': '8zGuJQqwhZafTah7Uc7Z4tXRnguqkn5KLFAP8oV6PHe2',\n",
    "\t},\n",
    "    'devnet-limits': {\n",
    "        'ENV': 'devnet',\n",
    "        'URL': 'https://api.devnet.solana.com/',\n",
    "\t\t'PYTH_ORACLE_MAPPING_ADDRESS': 'BmA9Z6FjioHJPpjT39QazZyhDRUdZy2ezwx4GiDdE2u2',\n",
    "\t\t'CLEARING_HOUSE_PROGRAM_ID': 'HiZ8CnfEE9LrBZTfc8hBneWrPg1Cbsn8Wdy6SPLfae9V',\n",
    "\t\t'USDC_MINT_ADDRESS': '8zGuJQqwhZafTah7Uc7Z4tXRnguqkn5KLFAP8oV6PHe2',\n",
    "\t},\n",
    "\t'mainnet': {\n",
    "\t\t'ENV': 'mainnet-beta',\n",
    "        'URL': 'https://api.mainnet-beta.solana.com/',\n",
    "        # 'IDL_URL':'',\n",
    "\t\t'PYTH_ORACLE_MAPPING_ADDRESS': 'AHtgzX45WTKfkPG53L6WYhGEXwQkN1BVknET3sVsLL8J',\n",
    "\t\t'CLEARING_HOUSE_PROGRAM_ID': 'dammHkt7jmytvbS3nHTxQNEcP59aE57nxwV21YdqEDN',\n",
    "\t\t'USDC_MINT_ADDRESS': 'EPjFWdd5AufqSSqeM2qN1xzybapC8G4wEGGkZwyTDt1v',\n",
    "\t},\n",
    "}"
   ]
  },
  {
   "cell_type": "code",
   "execution_count": 4,
   "id": "281a42ba-5221-4e1f-bbe0-c085a8bb82aa",
   "metadata": {},
   "outputs": [
    {
     "name": "stdout",
     "output_type": "stream",
     "text": [
      "requesting from https://raw.githubusercontent.com/drift-labs/protocol-v1/master/sdk/src/idl/clearing_house.json\n"
     ]
    }
   ],
   "source": [
    "from solana.publickey import PublicKey\n",
    "from anchorpy import Idl, Program, Provider\n",
    "from driftpy.clearing_house import ClearingHouse\n",
    "from driftpy import idl\n",
    "\n",
    "import os\n",
    "import json\n",
    "import requests\n",
    "\n",
    "def load_program(ENV):\n",
    "    CH_PID = drift_configs[ENV].get('CLEARING_HOUSE_PROGRAM_ID')\n",
    "    IDL_JSON = None\n",
    "    IDL_URL = drift_configs[ENV].get('IDL_URL', None)\n",
    "    if IDL_URL is None:\n",
    "        IDL_JSON = ClearingHouse.local_idl()\n",
    "    else:\n",
    "        print('requesting from', IDL_URL)\n",
    "        IDL_JSON =  Idl.from_json(requests.request(\"GET\", IDL_URL).json())\n",
    "        \n",
    "    if \"ANCHOR_PROVIDER_URL\" not in os.environ:\n",
    "        os.environ[\"ANCHOR_PROVIDER_URL\"] =  drift_configs[ENV].get('URL')\n",
    "\n",
    "    # override path to wallet\n",
    "    os.environ[\"ANCHOR_WALLET\"] = os.path.expanduser(\"~/.config/solana/arbJ.json\") \n",
    "    #del os.environ[\"ANCHOR_WALLET\"]    \n",
    "\n",
    "    # Address of the deployed program.\n",
    "    program = Program(IDL_JSON,  PublicKey(CH_PID), Provider.env())\n",
    "    return program\n",
    "\n",
    "program = load_program('devnet')"
   ]
  },
  {
   "cell_type": "code",
   "execution_count": 5,
   "id": "0185c9a0-fd6d-4db6-a856-375887b90578",
   "metadata": {},
   "outputs": [],
   "source": [
    "from driftpy.clearing_house import ClearingHouse\n",
    "\n",
    "drift_acct = await ClearingHouse.create(program)\n",
    "\n",
    "# check if user account exists\n",
    "try:\n",
    "    drift_user_acct = await drift_acct.get_user_account()\n",
    "except Exception as e:\n",
    "    print('Error:', e)"
   ]
  },
  {
   "cell_type": "code",
   "execution_count": 6,
   "id": "7c37dcd9-b430-4f64-9bcb-949c419126ef",
   "metadata": {},
   "outputs": [
    {
     "data": {
      "text/plain": [
       "9190181.955206"
      ]
     },
     "execution_count": 6,
     "metadata": {},
     "output_type": "execute_result"
    }
   ],
   "source": [
    "balance = (drift_user_acct.collateral/1e6)\n",
    "balance"
   ]
  },
  {
   "cell_type": "markdown",
   "id": "175d87b1-d844-4473-99f4-bd1515b16d93",
   "metadata": {},
   "source": [
    "# load predicted funding"
   ]
  },
  {
   "cell_type": "code",
   "execution_count": 7,
   "id": "82f7aeb8-b714-422a-8d7a-6beb7cfb93b1",
   "metadata": {},
   "outputs": [],
   "source": [
    "from driftpy.constants.markets import MARKETS\n",
    "from driftpy.constants.numeric_constants import MARK_PRICE_PRECISION\n",
    "from datetime import datetime, timedelta\n",
    "\n",
    "markets = await drift_acct.get_markets_account()\n",
    "\n",
    "def calculate_market_summary(markets):\n",
    "    \n",
    "    FUNDING_PRECISION = 1e4\n",
    "    \n",
    "    markets_summary = pd.concat([\n",
    "        pd.DataFrame(MARKETS).iloc[:,:3],\n",
    "    pd.DataFrame(markets.markets),\n",
    "    pd.DataFrame([x.amm for x in markets.markets]),           \n",
    "              ],axis=1).dropna(subset=['symbol'])\n",
    "\n",
    "    last_funding_ts = pd.to_datetime(markets.markets[0].amm.last_funding_rate_ts*1e9)\n",
    "    next_funding_ts = last_funding_ts + timedelta(hours=1)\n",
    "    next_funding_ts\n",
    "\n",
    "    summary = {}\n",
    "    summary['next_funding_rate'] = (markets_summary['last_mark_price_twap'] \\\n",
    "                         - markets_summary['last_oracle_price_twap'])\\\n",
    "    /markets_summary['last_oracle_price_twap']/24\n",
    "    \n",
    "    summary['mark_price'] = (markets_summary['quote_asset_reserve'] \\\n",
    "                         /markets_summary['base_asset_reserve'])\\\n",
    "    *markets_summary['peg_multiplier']/1e3\n",
    "    \n",
    "    return pd.concat([pd.DataFrame(MARKETS).iloc[:,:3], pd.DataFrame(summary)],axis=1)"
   ]
  },
  {
   "cell_type": "code",
   "execution_count": 8,
   "id": "195a56e8-ddfb-4e9c-b835-57692798acd0",
   "metadata": {},
   "outputs": [
    {
     "data": {
      "text/html": [
       "<div>\n",
       "<style scoped>\n",
       "    .dataframe tbody tr th:only-of-type {\n",
       "        vertical-align: middle;\n",
       "    }\n",
       "\n",
       "    .dataframe tbody tr th {\n",
       "        vertical-align: top;\n",
       "    }\n",
       "\n",
       "    .dataframe thead th {\n",
       "        text-align: right;\n",
       "    }\n",
       "</style>\n",
       "<table border=\"1\" class=\"dataframe\">\n",
       "  <thead>\n",
       "    <tr style=\"text-align: right;\">\n",
       "      <th></th>\n",
       "      <th>symbol</th>\n",
       "      <th>base_asset_symbol</th>\n",
       "      <th>market_index</th>\n",
       "      <th>next_funding_rate</th>\n",
       "      <th>mark_price</th>\n",
       "    </tr>\n",
       "  </thead>\n",
       "  <tbody>\n",
       "    <tr>\n",
       "      <th>0</th>\n",
       "      <td>SOL-PERP</td>\n",
       "      <td>SOL</td>\n",
       "      <td>0</td>\n",
       "      <td>0.000265</td>\n",
       "      <td>98.649322</td>\n",
       "    </tr>\n",
       "    <tr>\n",
       "      <th>1</th>\n",
       "      <td>BTC-PERP</td>\n",
       "      <td>BTC</td>\n",
       "      <td>1</td>\n",
       "      <td>0.000121</td>\n",
       "      <td>38594.990784</td>\n",
       "    </tr>\n",
       "    <tr>\n",
       "      <th>2</th>\n",
       "      <td>ETH-PERP</td>\n",
       "      <td>ETH</td>\n",
       "      <td>2</td>\n",
       "      <td>0.000147</td>\n",
       "      <td>2693.709768</td>\n",
       "    </tr>\n",
       "    <tr>\n",
       "      <th>3</th>\n",
       "      <td>LUNA-PERP</td>\n",
       "      <td>LUNA</td>\n",
       "      <td>3</td>\n",
       "      <td>0.000312</td>\n",
       "      <td>51.544529</td>\n",
       "    </tr>\n",
       "    <tr>\n",
       "      <th>4</th>\n",
       "      <td>AVAX-PERP</td>\n",
       "      <td>AVAX</td>\n",
       "      <td>4</td>\n",
       "      <td>0.000321</td>\n",
       "      <td>70.267824</td>\n",
       "    </tr>\n",
       "    <tr>\n",
       "      <th>5</th>\n",
       "      <td>BNB-PERP</td>\n",
       "      <td>BNB</td>\n",
       "      <td>5</td>\n",
       "      <td>0.000257</td>\n",
       "      <td>386.329275</td>\n",
       "    </tr>\n",
       "    <tr>\n",
       "      <th>6</th>\n",
       "      <td>MATIC-PERP</td>\n",
       "      <td>MATIC</td>\n",
       "      <td>6</td>\n",
       "      <td>0.015457</td>\n",
       "      <td>2.098989</td>\n",
       "    </tr>\n",
       "    <tr>\n",
       "      <th>7</th>\n",
       "      <td>ATOM-PERP</td>\n",
       "      <td>ATOM</td>\n",
       "      <td>7</td>\n",
       "      <td>0.004160</td>\n",
       "      <td>32.415746</td>\n",
       "    </tr>\n",
       "    <tr>\n",
       "      <th>8</th>\n",
       "      <td>DOT-PERP</td>\n",
       "      <td>DOT</td>\n",
       "      <td>8</td>\n",
       "      <td>0.003658</td>\n",
       "      <td>20.658505</td>\n",
       "    </tr>\n",
       "  </tbody>\n",
       "</table>\n",
       "</div>"
      ],
      "text/plain": [
       "       symbol base_asset_symbol  market_index  next_funding_rate    mark_price\n",
       "0    SOL-PERP               SOL             0           0.000265     98.649322\n",
       "1    BTC-PERP               BTC             1           0.000121  38594.990784\n",
       "2    ETH-PERP               ETH             2           0.000147   2693.709768\n",
       "3   LUNA-PERP              LUNA             3           0.000312     51.544529\n",
       "4   AVAX-PERP              AVAX             4           0.000321     70.267824\n",
       "5    BNB-PERP               BNB             5           0.000257    386.329275\n",
       "6  MATIC-PERP             MATIC             6           0.015457      2.098989\n",
       "7   ATOM-PERP              ATOM             7           0.004160     32.415746\n",
       "8    DOT-PERP               DOT             8           0.003658     20.658505"
      ]
     },
     "execution_count": 8,
     "metadata": {},
     "output_type": "execute_result"
    }
   ],
   "source": [
    "calculate_market_summary(markets)"
   ]
  },
  {
   "cell_type": "markdown",
   "id": "6aed881c-fc12-4c2e-9b76-ef617a9a185c",
   "metadata": {},
   "source": [
    "# todo: load oracle"
   ]
  },
  {
   "cell_type": "code",
   "execution_count": 9,
   "id": "5a6ea614-abc4-4476-8310-38446bfb15d7",
   "metadata": {},
   "outputs": [
    {
     "name": "stdout",
     "output_type": "stream",
     "text": [
      "Requirement already satisfied: pythclient in ./venv/lib/python3.10/site-packages (0.0.2)\n",
      "Requirement already satisfied: backoff in ./venv/lib/python3.10/site-packages (from pythclient) (1.11.1)\n",
      "Requirement already satisfied: loguru in ./venv/lib/python3.10/site-packages (from pythclient) (0.6.0)\n",
      "Requirement already satisfied: flake8 in ./venv/lib/python3.10/site-packages (from pythclient) (4.0.1)\n",
      "Requirement already satisfied: aiohttp>=3.7.4 in ./venv/lib/python3.10/site-packages (from pythclient) (3.8.1)\n",
      "Requirement already satisfied: dnspython in ./venv/lib/python3.10/site-packages (from pythclient) (2.2.0)\n",
      "Requirement already satisfied: aiodns in ./venv/lib/python3.10/site-packages (from pythclient) (3.0.0)\n",
      "Requirement already satisfied: base58 in ./venv/lib/python3.10/site-packages (from pythclient) (2.1.1)\n",
      "Requirement already satisfied: multidict<7.0,>=4.5 in ./venv/lib/python3.10/site-packages (from aiohttp>=3.7.4->pythclient) (5.2.0)\n",
      "Requirement already satisfied: attrs>=17.3.0 in ./venv/lib/python3.10/site-packages (from aiohttp>=3.7.4->pythclient) (21.2.0)\n",
      "Requirement already satisfied: async-timeout<5.0,>=4.0.0a3 in ./venv/lib/python3.10/site-packages (from aiohttp>=3.7.4->pythclient) (4.0.1)\n",
      "Requirement already satisfied: frozenlist>=1.1.1 in ./venv/lib/python3.10/site-packages (from aiohttp>=3.7.4->pythclient) (1.2.0)\n",
      "Requirement already satisfied: yarl<2.0,>=1.0 in ./venv/lib/python3.10/site-packages (from aiohttp>=3.7.4->pythclient) (1.7.2)\n",
      "Requirement already satisfied: charset-normalizer<3.0,>=2.0 in ./venv/lib/python3.10/site-packages (from aiohttp>=3.7.4->pythclient) (2.0.8)\n",
      "Requirement already satisfied: aiosignal>=1.1.2 in ./venv/lib/python3.10/site-packages (from aiohttp>=3.7.4->pythclient) (1.2.0)\n",
      "Requirement already satisfied: pycares>=4.0.0 in ./venv/lib/python3.10/site-packages (from aiodns->pythclient) (4.1.2)\n",
      "Requirement already satisfied: pycodestyle<2.9.0,>=2.8.0 in ./venv/lib/python3.10/site-packages (from flake8->pythclient) (2.8.0)\n",
      "Requirement already satisfied: mccabe<0.7.0,>=0.6.0 in ./venv/lib/python3.10/site-packages (from flake8->pythclient) (0.6.1)\n",
      "Requirement already satisfied: pyflakes<2.5.0,>=2.4.0 in ./venv/lib/python3.10/site-packages (from flake8->pythclient) (2.4.0)\n",
      "Requirement already satisfied: typing-extensions>=3.6.5 in ./venv/lib/python3.10/site-packages (from async-timeout<5.0,>=4.0.0a3->aiohttp>=3.7.4->pythclient) (3.10.0.2)\n",
      "Requirement already satisfied: cffi>=1.5.0 in ./venv/lib/python3.10/site-packages (from pycares>=4.0.0->aiodns->pythclient) (1.15.0)\n",
      "Requirement already satisfied: idna>=2.0 in ./venv/lib/python3.10/site-packages (from yarl<2.0,>=1.0->aiohttp>=3.7.4->pythclient) (3.3)\n",
      "Requirement already satisfied: pycparser in ./venv/lib/python3.10/site-packages (from cffi>=1.5.0->pycares>=4.0.0->aiodns->pythclient) (2.21)\n"
     ]
    }
   ],
   "source": [
    "!pip install pythclient"
   ]
  },
  {
   "cell_type": "code",
   "execution_count": 10,
   "id": "308a46c6-728f-4cf5-b320-2577db150549",
   "metadata": {},
   "outputs": [],
   "source": [
    "from pythclient.pythclient import PythClient  # noqa\n",
    "from pythclient.ratelimit import RateLimit  # noqa\n",
    "from pythclient.pythaccounts import PythPriceAccount  # noqa\n",
    "from pythclient.utils import get_key # noqa\n",
    "\n",
    "v2_first_mapping_account_key = get_key(\"mainnet\", \"mapping\")\n",
    "v2_program_key = get_key(\"mainnet\", \"program\")\n",
    "\n",
    "pythC = PythClient(\n",
    "        first_mapping_account_key=v2_first_mapping_account_key,\n",
    "        program_key=None, #v2_program_key,\n",
    "    ) \n",
    "\n",
    "await pythC.refresh_all_prices()\n",
    "        # await c.refresh_all_prices()\n",
    "        # products = await c.get_products()\n",
    "        # all_prices: List[PythPriceAccount] = []\n",
    "        # for p in products:\n",
    "        #     print(p.key, p.attrs)\n",
    "        #     prices = await p.get_prices()\n",
    "        #     for _, pr in prices.items():\n",
    "        #         all_prices.append(pr)\n",
    "        #         print(\n",
    "        #             pr.key,\n",
    "        #             pr.product_account_key,\n",
    "        #             pr.price_type,\n",
    "        #             pr.aggregate_price,\n",
    "        #             \"p/m\",\n",
    "        #             pr.aggregate_price_confidence_interval,\n",
    "        #         )"
   ]
  },
  {
   "cell_type": "code",
   "execution_count": null,
   "id": "f1b345c8-c48e-42fc-aff4-104bb3befa01",
   "metadata": {},
   "outputs": [],
   "source": []
  },
  {
   "cell_type": "code",
   "execution_count": null,
   "id": "a026dbc8-378d-4b19-a3be-a3528eee4fd7",
   "metadata": {},
   "outputs": [],
   "source": []
  }
 ],
 "metadata": {
  "kernelspec": {
   "display_name": "Python 3.10.0 64-bit ('venv': venv)",
   "language": "python",
   "name": "python3100jvsc74a57bd0f9a55105823872d65e726b0cbb71e86ec4c59adbf774b41cfbf31de1872e13e3"
  },
  "language_info": {
   "codemirror_mode": {
    "name": "ipython",
    "version": 3
   },
   "file_extension": ".py",
   "mimetype": "text/x-python",
   "name": "python",
   "nbconvert_exporter": "python",
   "pygments_lexer": "ipython3",
   "version": "3.10.0"
  }
 },
 "nbformat": 4,
 "nbformat_minor": 5
}
