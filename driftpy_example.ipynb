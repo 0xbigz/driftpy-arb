{
 "cells": [
  {
   "cell_type": "code",
   "execution_count": null,
   "id": "65662974-ddc5-4842-aa89-802c6d8dec0e",
   "metadata": {
    "scrolled": true,
    "tags": []
   },
   "outputs": [],
   "source": [
    "! pip install driftpy"
   ]
  },
  {
   "cell_type": "code",
   "execution_count": null,
   "id": "46b302b4-9c5e-4aa2-ac01-d6713e10d222",
   "metadata": {},
   "outputs": [],
   "source": [
    "! pip install driftpy --upgrade"
   ]
  },
  {
   "cell_type": "code",
   "execution_count": null,
   "id": "91d4677e-b65b-46a6-a7d1-891553bf64e4",
   "metadata": {},
   "outputs": [],
   "source": [
    "# import sys\n",
    "# sys.path.insert(0, 'driftpy/src/')\n",
    "# import driftpy\n",
    "# driftpy.__file__"
   ]
  },
  {
   "cell_type": "code",
   "execution_count": 1,
   "id": "540515bd-0605-458c-a705-356531309714",
   "metadata": {},
   "outputs": [],
   "source": [
    "%reload_ext autoreload\n",
    "%autoreload 2\n",
    "\n",
    "import pandas as pd\n",
    "import numpy as np\n",
    "pd.options.plotting.backend = \"plotly\""
   ]
  },
  {
   "cell_type": "markdown",
   "id": "0604276c-39a9-463f-8a3a-fc9f5c32a2b0",
   "metadata": {},
   "source": [
    "# LOAD devnet environment"
   ]
  },
  {
   "cell_type": "code",
   "execution_count": 2,
   "id": "a2a6a7cf-c0b9-41e7-9361-38734592a885",
   "metadata": {},
   "outputs": [],
   "source": [
    "import os\n",
    "from driftpy.clearing_house import ClearingHouse\n",
    "from driftpy.clearing_house_user import ClearingHouseUser\n",
    "\n",
    "os.environ['ANCHOR_WALLET'] = os.path.expanduser('~/.config/solana/<YOUWALLET>.json')\n",
    "\n",
    "drift_acct = await ClearingHouse.create_from_env('mainnet')\n",
    "drift_user = ClearingHouseUser(drift_acct, drift_acct.program.provider.wallet.public_key)"
   ]
  },
  {
   "cell_type": "code",
   "execution_count": 3,
   "id": "7c440a35-18ea-4101-9b31-0a220805d1ea",
   "metadata": {},
   "outputs": [
    {
     "data": {
      "text/html": [
       "<div>\n",
       "<style scoped>\n",
       "    .dataframe tbody tr th:only-of-type {\n",
       "        vertical-align: middle;\n",
       "    }\n",
       "\n",
       "    .dataframe tbody tr th {\n",
       "        vertical-align: top;\n",
       "    }\n",
       "\n",
       "    .dataframe thead th {\n",
       "        text-align: right;\n",
       "    }\n",
       "</style>\n",
       "<table border=\"1\" class=\"dataframe\">\n",
       "  <thead>\n",
       "    <tr style=\"text-align: right;\">\n",
       "      <th></th>\n",
       "      <th>market_index</th>\n",
       "      <th>base_asset_amount</th>\n",
       "      <th>quote_asset_amount</th>\n",
       "      <th>last_cumulative_funding_rate</th>\n",
       "      <th>last_cumulative_repeg_rebate</th>\n",
       "      <th>last_funding_rate_ts</th>\n",
       "      <th>stop_loss_price</th>\n",
       "      <th>stop_loss_amount</th>\n",
       "      <th>stop_profit_price</th>\n",
       "      <th>stop_profit_amount</th>\n",
       "      <th>transfer_to</th>\n",
       "      <th>padding0</th>\n",
       "      <th>padding1</th>\n",
       "    </tr>\n",
       "  </thead>\n",
       "  <tbody>\n",
       "    <tr>\n",
       "      <th>0</th>\n",
       "      <td>0</td>\n",
       "      <td>-208242686073</td>\n",
       "      <td>2067087</td>\n",
       "      <td>280709713217662</td>\n",
       "      <td>0</td>\n",
       "      <td>1643727600</td>\n",
       "      <td>0</td>\n",
       "      <td>0</td>\n",
       "      <td>0</td>\n",
       "      <td>0</td>\n",
       "      <td>11111111111111111111111111111111</td>\n",
       "      <td>0</td>\n",
       "      <td>0</td>\n",
       "    </tr>\n",
       "    <tr>\n",
       "      <th>1</th>\n",
       "      <td>4</td>\n",
       "      <td>112413605268</td>\n",
       "      <td>749628</td>\n",
       "      <td>208775891305370</td>\n",
       "      <td>0</td>\n",
       "      <td>1643727606</td>\n",
       "      <td>0</td>\n",
       "      <td>0</td>\n",
       "      <td>0</td>\n",
       "      <td>0</td>\n",
       "      <td>11111111111111111111111111111111</td>\n",
       "      <td>0</td>\n",
       "      <td>0</td>\n",
       "    </tr>\n",
       "    <tr>\n",
       "      <th>2</th>\n",
       "      <td>3</td>\n",
       "      <td>-194244719980</td>\n",
       "      <td>995754</td>\n",
       "      <td>-106882990895767</td>\n",
       "      <td>0</td>\n",
       "      <td>1643727608</td>\n",
       "      <td>0</td>\n",
       "      <td>0</td>\n",
       "      <td>0</td>\n",
       "      <td>0</td>\n",
       "      <td>11111111111111111111111111111111</td>\n",
       "      <td>0</td>\n",
       "      <td>0</td>\n",
       "    </tr>\n",
       "    <tr>\n",
       "      <th>3</th>\n",
       "      <td>2</td>\n",
       "      <td>-3933989978</td>\n",
       "      <td>1000000</td>\n",
       "      <td>32205402480869760</td>\n",
       "      <td>0</td>\n",
       "      <td>1643727605</td>\n",
       "      <td>0</td>\n",
       "      <td>0</td>\n",
       "      <td>0</td>\n",
       "      <td>0</td>\n",
       "      <td>11111111111111111111111111111111</td>\n",
       "      <td>0</td>\n",
       "      <td>0</td>\n",
       "    </tr>\n",
       "    <tr>\n",
       "      <th>4</th>\n",
       "      <td>1</td>\n",
       "      <td>-263916013</td>\n",
       "      <td>1000000</td>\n",
       "      <td>394773480378601265</td>\n",
       "      <td>0</td>\n",
       "      <td>1643727615</td>\n",
       "      <td>0</td>\n",
       "      <td>0</td>\n",
       "      <td>0</td>\n",
       "      <td>0</td>\n",
       "      <td>11111111111111111111111111111111</td>\n",
       "      <td>0</td>\n",
       "      <td>0</td>\n",
       "    </tr>\n",
       "  </tbody>\n",
       "</table>\n",
       "</div>"
      ],
      "text/plain": [
       "   market_index  base_asset_amount  quote_asset_amount  \\\n",
       "0             0      -208242686073             2067087   \n",
       "1             4       112413605268              749628   \n",
       "2             3      -194244719980              995754   \n",
       "3             2        -3933989978             1000000   \n",
       "4             1         -263916013             1000000   \n",
       "\n",
       "   last_cumulative_funding_rate  last_cumulative_repeg_rebate  \\\n",
       "0               280709713217662                             0   \n",
       "1               208775891305370                             0   \n",
       "2              -106882990895767                             0   \n",
       "3             32205402480869760                             0   \n",
       "4            394773480378601265                             0   \n",
       "\n",
       "   last_funding_rate_ts  stop_loss_price  stop_loss_amount  stop_profit_price  \\\n",
       "0            1643727600                0                 0                  0   \n",
       "1            1643727606                0                 0                  0   \n",
       "2            1643727608                0                 0                  0   \n",
       "3            1643727605                0                 0                  0   \n",
       "4            1643727615                0                 0                  0   \n",
       "\n",
       "   stop_profit_amount                       transfer_to  padding0  padding1  \n",
       "0                   0  11111111111111111111111111111111         0         0  \n",
       "1                   0  11111111111111111111111111111111         0         0  \n",
       "2                   0  11111111111111111111111111111111         0         0  \n",
       "3                   0  11111111111111111111111111111111         0         0  \n",
       "4                   0  11111111111111111111111111111111         0         0  "
      ]
     },
     "execution_count": 3,
     "metadata": {},
     "output_type": "execute_result"
    }
   ],
   "source": [
    "pd.DataFrame((await drift_user.get_user_positions_account()).positions)"
   ]
  },
  {
   "cell_type": "code",
   "execution_count": 4,
   "id": "402df59a-4012-45e3-9ad8-c3a7971d0601",
   "metadata": {},
   "outputs": [
    {
     "data": {
      "text/plain": [
       "2.295601998653568"
      ]
     },
     "execution_count": 4,
     "metadata": {},
     "output_type": "execute_result"
    }
   ],
   "source": [
    "market = await drift_user.clearing_house.get_market(0)\n",
    "(await drift_user.get_position_value(0))/1e6"
   ]
  },
  {
   "cell_type": "markdown",
   "id": "b8ecee2a-f578-41de-808a-66d6498aa57f",
   "metadata": {},
   "source": [
    "# load user state info"
   ]
  },
  {
   "cell_type": "code",
   "execution_count": 5,
   "id": "e81d5abd-1d92-4dc2-aa20-2e3a95be831c",
   "metadata": {},
   "outputs": [],
   "source": [
    "from typing import Optional, TypeVar, Type, cast\n",
    "from driftpy.types import (\n",
    "    PositionDirection,\n",
    "    StateAccount,\n",
    "    MarketsAccount,\n",
    "    FundingPaymentHistoryAccount,\n",
    "    FundingRateHistoryAccount,\n",
    "    TradeHistoryAccount,\n",
    "    LiquidationHistoryAccount,\n",
    "    DepositHistoryAccount,\n",
    "    ExtendedCurveHistoryAccount,\n",
    "    User,\n",
    "    UserPositions,\n",
    ")\n",
    "from driftpy.constants.markets import MARKETS\n",
    "from driftpy.constants.numeric_constants import MARK_PRICE_PRECISION\n",
    "\n",
    "#todo\n",
    "QUOTE_PRECISION = 1e6\n",
    "AMM_PRECISION = 1e13"
   ]
  },
  {
   "cell_type": "code",
   "execution_count": 12,
   "id": "99201be4-0f54-40df-b5cd-ea8573a31172",
   "metadata": {},
   "outputs": [
    {
     "data": {
      "text/plain": [
       "130034.75957"
      ]
     },
     "execution_count": 12,
     "metadata": {},
     "output_type": "execute_result"
    }
   ],
   "source": [
    "drift_user_acct = await drift_user.get_user_account()\n",
    "balance = (drift_user_acct.collateral/1e6)\n",
    "balance"
   ]
  },
  {
   "cell_type": "code",
   "execution_count": 13,
   "id": "ad3611ee-3652-4efb-ba27-9fa753e31b78",
   "metadata": {},
   "outputs": [
    {
     "data": {
      "text/html": [
       "<div>\n",
       "<style scoped>\n",
       "    .dataframe tbody tr th:only-of-type {\n",
       "        vertical-align: middle;\n",
       "    }\n",
       "\n",
       "    .dataframe tbody tr th {\n",
       "        vertical-align: top;\n",
       "    }\n",
       "\n",
       "    .dataframe thead th {\n",
       "        text-align: right;\n",
       "    }\n",
       "</style>\n",
       "<table border=\"1\" class=\"dataframe\">\n",
       "  <thead>\n",
       "    <tr style=\"text-align: right;\">\n",
       "      <th></th>\n",
       "      <th>symbol</th>\n",
       "      <th>market_index</th>\n",
       "      <th>base_asset_amount</th>\n",
       "      <th>quote_asset_amount</th>\n",
       "    </tr>\n",
       "  </thead>\n",
       "  <tbody>\n",
       "    <tr>\n",
       "      <th>0</th>\n",
       "      <td>SOL-PERP</td>\n",
       "      <td>0.0</td>\n",
       "      <td>-0.020824</td>\n",
       "      <td>2.067087</td>\n",
       "    </tr>\n",
       "    <tr>\n",
       "      <th>1</th>\n",
       "      <td>BTC-PERP</td>\n",
       "      <td>1.0</td>\n",
       "      <td>-0.000026</td>\n",
       "      <td>1.000000</td>\n",
       "    </tr>\n",
       "    <tr>\n",
       "      <th>2</th>\n",
       "      <td>ETH-PERP</td>\n",
       "      <td>2.0</td>\n",
       "      <td>-0.000393</td>\n",
       "      <td>1.000000</td>\n",
       "    </tr>\n",
       "    <tr>\n",
       "      <th>3</th>\n",
       "      <td>LUNA-PERP</td>\n",
       "      <td>3.0</td>\n",
       "      <td>-0.019424</td>\n",
       "      <td>0.995754</td>\n",
       "    </tr>\n",
       "    <tr>\n",
       "      <th>4</th>\n",
       "      <td>AVAX-PERP</td>\n",
       "      <td>4.0</td>\n",
       "      <td>0.011241</td>\n",
       "      <td>0.749628</td>\n",
       "    </tr>\n",
       "  </tbody>\n",
       "</table>\n",
       "</div>"
      ],
      "text/plain": [
       "      symbol  market_index  base_asset_amount  quote_asset_amount\n",
       "0   SOL-PERP           0.0          -0.020824            2.067087\n",
       "1   BTC-PERP           1.0          -0.000026            1.000000\n",
       "2   ETH-PERP           2.0          -0.000393            1.000000\n",
       "3  LUNA-PERP           3.0          -0.019424            0.995754\n",
       "4  AVAX-PERP           4.0           0.011241            0.749628"
      ]
     },
     "execution_count": 13,
     "metadata": {},
     "output_type": "execute_result"
    }
   ],
   "source": [
    "# load user positions\n",
    "positions = cast(\n",
    "                UserPositions,\n",
    "                await drift_acct.program.account[\"UserPositions\"].fetch(\n",
    "                    drift_user_acct.positions\n",
    "                ),\n",
    "            )\n",
    "positions_df = pd.DataFrame(positions.positions)[['market_index', 'base_asset_amount', 'quote_asset_amount']]\n",
    "positions_df['base_asset_amount'] /= AMM_PRECISION\n",
    "positions_df['quote_asset_amount'] /= QUOTE_PRECISION\n",
    "positions_df = pd.DataFrame(MARKETS)[['symbol', 'market_index']].merge(positions_df)\n",
    "positions_df.loc[positions_df.base_asset_amount==0,:] = np.nan\n",
    "positions_df"
   ]
  },
  {
   "cell_type": "markdown",
   "id": "175d87b1-d844-4473-99f4-bd1515b16d93",
   "metadata": {},
   "source": [
    "# load predicted funding"
   ]
  },
  {
   "cell_type": "code",
   "execution_count": 14,
   "id": "97f3b39a-367f-48ca-a3f9-bb6d7b5c56e3",
   "metadata": {},
   "outputs": [],
   "source": [
    "# !pip install pythclient\n",
    "# import asyncio\n",
    "\n",
    "from pythclient.pythaccounts import PythPriceAccount\n",
    "from pythclient.solana import (SolanaClient, SolanaPublicKey, SOLANA_DEVNET_HTTP_ENDPOINT, SOLANA_DEVNET_WS_ENDPOINT,\n",
    "SOLANA_MAINNET_HTTP_ENDPOINT, SOLANA_MAINNET_HTTP_ENDPOINT)\n",
    "\n",
    "async def get_pyth_price(address):\n",
    "    # devnet DOGE/USD price account key (available on pyth.network website)\n",
    "    account_key = SolanaPublicKey(address)\n",
    "    solana_client = SolanaClient(endpoint=SOLANA_MAINNET_HTTP_ENDPOINT, ws_endpoint=SOLANA_MAINNET_HTTP_ENDPOINT)\n",
    "    price: PythPriceAccount = PythPriceAccount(account_key, solana_client)\n",
    "\n",
    "    await price.update()\n",
    "    # print(dir(price.derivations))\n",
    "    twap_result = (price.derivations.get('TWAPVALUE'), price.derivations.get('TWACVALUE'))\n",
    "    price_result = (price.aggregate_price, price.aggregate_price_confidence_interval)\n",
    "    print(twap_result)\n",
    "    return price\n",
    "    # # print(price.aggregate_price, \"±\", price.aggregate_price_confidence_interval)\n",
    "    # return result"
   ]
  },
  {
   "cell_type": "code",
   "execution_count": 15,
   "id": "82f7aeb8-b714-422a-8d7a-6beb7cfb93b1",
   "metadata": {},
   "outputs": [],
   "source": [
    "from datetime import datetime, timedelta\n",
    "\n",
    "markets = await drift_acct.get_markets_account()\n",
    "\n",
    "\n",
    "def calculate_capped_funding_rate(markets_summary):\n",
    "    next_funding = (markets_summary['last_mark_price_twap'] \\\n",
    "                         - markets_summary['last_oracle_price_twap'])/24\n",
    "    fd1 =  next_funding/MARK_PRICE_PRECISION \\\n",
    "    * (markets_summary['base_asset_amount']/AMM_PRECISION)\n",
    "    fd2_m = (((markets_summary['total_fee_minus_distributions']\n",
    "                             - markets_summary['total_fee']/2)*.66666)/QUOTE_PRECISION)\n",
    "    \n",
    "    fd2_u =  next_funding/MARK_PRICE_PRECISION \\\n",
    "    * (markets_summary['base_asset_amount_long'])\n",
    "    \n",
    "    \n",
    "    est_fee_pool_funding_revenue = markets_summary[\"base_asset_amount\"]/AMM_PRECISION * next_funding/MARK_PRICE_PRECISION\n",
    "\n",
    "    drift_capped_fund_rate = (markets_summary[[\"base_asset_amount_long\", \"base_asset_amount_short\"]].abs().min(axis=1)  \\\n",
    "                       * next_funding + fd2_m*MARK_PRICE_PRECISION*AMM_PRECISION) \\\n",
    "    / markets_summary[[\"base_asset_amount_long\", \"base_asset_amount_short\"]].abs().max(axis=1)\n",
    "\n",
    "    capped_funding = drift_capped_fund_rate/markets_summary['last_oracle_price_twap'] * 100\n",
    "    capped_funding[fd2_m+est_fee_pool_funding_revenue>0] = np.nan\n",
    "    \n",
    "    return capped_funding\n",
    "    \n",
    "\n",
    "async def calculate_market_summary(markets):\n",
    "    FUNDING_PRECISION = 1e4\n",
    "    \n",
    "    markets_summary = pd.concat([\n",
    "        pd.DataFrame(MARKETS).iloc[:,:3],\n",
    "    pd.DataFrame(markets.markets),\n",
    "    pd.DataFrame([x.amm for x in markets.markets]),           \n",
    "              ],axis=1).dropna(subset=['symbol'])\n",
    "\n",
    "    last_funding_ts = pd.to_datetime(markets.markets[0].amm.last_funding_rate_ts*1e9)\n",
    "    next_funding_ts = last_funding_ts + timedelta(hours=1)\n",
    "    next_funding_ts\n",
    "\n",
    "    summary = {}\n",
    "    \n",
    "    next_funding = (markets_summary['last_mark_price_twap'] \\\n",
    "                         - markets_summary['last_oracle_price_twap'])/24\n",
    "    summary['next_funding_rate(%)'] = next_funding\\\n",
    "        /markets_summary['last_oracle_price_twap'] * 100\n",
    "    \n",
    "    \n",
    "    summary['next_funding_rate_capped(%)']  = calculate_capped_funding_rate(markets_summary)\n",
    "    \n",
    "    summary['next_funding_rate(%APR)'] = (summary['next_funding_rate(%)'] * 24 * 365.25).round(2)\n",
    "    \n",
    "    # next_est_capped_funding_revenue = \\\n",
    "    # markets_summary[[\"base_asset_amount_long\", \"base_asset_amount_short\"]].abs().min(axis=1) * next_funding \\\n",
    "    # - markets_summary[[\"base_asset_amount_long\", \"base_asset_amount_short\"]].abs().max(axis=1) * drift_capped_fund_rate\n",
    "    \n",
    "    summary['mark_price'] = (markets_summary['quote_asset_reserve'] \\\n",
    "                         /markets_summary['base_asset_reserve'])\\\n",
    "    *markets_summary['peg_multiplier']/1e3\n",
    "    \n",
    "    prices = []\n",
    "    twaps = []\n",
    "    confs = []\n",
    "    twacs = []\n",
    "    for x in markets_summary['oracle'].values.tolist():\n",
    "        price = await get_pyth_price(str(x))\n",
    "        prices.append(price.aggregate_price)\n",
    "        confs.append(price.aggregate_price_confidence_interval)        \n",
    "    summary['oracle_price'] = prices\n",
    "    summary['oracle_conf'] = confs\n",
    "    \n",
    "    df = pd.concat([pd.DataFrame(MARKETS).iloc[:,:3], pd.DataFrame(summary)],axis=1)\n",
    "    \n",
    "    # df.loc[fd2_m+est_fee_pool_funding_revenue>0,\n",
    "    #      ['next_funding_rate_capped(%)']] = np.nan\n",
    "    \n",
    "    return df"
   ]
  },
  {
   "cell_type": "code",
   "execution_count": 16,
   "id": "195a56e8-ddfb-4e9c-b835-57692798acd0",
   "metadata": {
    "scrolled": true,
    "tags": []
   },
   "outputs": [
    {
     "name": "stdout",
     "output_type": "stream",
     "text": [
      "(None, None)\n"
     ]
    },
    {
     "name": "stderr",
     "output_type": "stream",
     "text": [
      "Unclosed client session\n",
      "client_session: <aiohttp.client.ClientSession object at 0x130cd8610>\n",
      "Unclosed connector\n",
      "connections: ['[(<aiohttp.client_proto.ResponseHandler object at 0x13127d000>, 109178.0420485)]']\n",
      "connector: <aiohttp.connector.TCPConnector object at 0x130cd9bd0>\n"
     ]
    },
    {
     "name": "stdout",
     "output_type": "stream",
     "text": [
      "(None, None)\n"
     ]
    },
    {
     "name": "stderr",
     "output_type": "stream",
     "text": [
      "Unclosed client session\n",
      "client_session: <aiohttp.client.ClientSession object at 0x130cd9e40>\n",
      "Unclosed connector\n",
      "connections: ['[(<aiohttp.client_proto.ResponseHandler object at 0x13127c220>, 109178.521105791)]']\n",
      "connector: <aiohttp.connector.TCPConnector object at 0x130c83c10>\n"
     ]
    },
    {
     "name": "stdout",
     "output_type": "stream",
     "text": [
      "(None, None)\n"
     ]
    },
    {
     "name": "stderr",
     "output_type": "stream",
     "text": [
      "Unclosed client session\n",
      "client_session: <aiohttp.client.ClientSession object at 0x1310d3100>\n",
      "Unclosed connector\n",
      "connections: ['[(<aiohttp.client_proto.ResponseHandler object at 0x131073d60>, 109178.924947458)]']\n",
      "connector: <aiohttp.connector.TCPConnector object at 0x1310d3cd0>\n"
     ]
    },
    {
     "name": "stdout",
     "output_type": "stream",
     "text": [
      "(None, None)\n"
     ]
    },
    {
     "name": "stderr",
     "output_type": "stream",
     "text": [
      "Unclosed client session\n",
      "client_session: <aiohttp.client.ClientSession object at 0x1310d0c10>\n",
      "Unclosed connector\n",
      "connections: ['[(<aiohttp.client_proto.ResponseHandler object at 0x13127d000>, 109179.262637791)]']\n",
      "connector: <aiohttp.connector.TCPConnector object at 0x130d0e860>\n"
     ]
    },
    {
     "name": "stdout",
     "output_type": "stream",
     "text": [
      "(None, None)\n"
     ]
    },
    {
     "name": "stderr",
     "output_type": "stream",
     "text": [
      "Unclosed client session\n",
      "client_session: <aiohttp.client.ClientSession object at 0x130c64fd0>\n",
      "Unclosed connector\n",
      "connections: ['[(<aiohttp.client_proto.ResponseHandler object at 0x13127de40>, 109179.610488666)]']\n",
      "connector: <aiohttp.connector.TCPConnector object at 0x130c65240>\n"
     ]
    },
    {
     "name": "stdout",
     "output_type": "stream",
     "text": [
      "(None, None)\n"
     ]
    },
    {
     "name": "stderr",
     "output_type": "stream",
     "text": [
      "Unclosed client session\n",
      "client_session: <aiohttp.client.ClientSession object at 0x130c650c0>\n",
      "Unclosed connector\n",
      "connections: ['[(<aiohttp.client_proto.ResponseHandler object at 0x13127e0e0>, 109179.920153208)]']\n",
      "connector: <aiohttp.connector.TCPConnector object at 0x130d0ead0>\n"
     ]
    },
    {
     "name": "stdout",
     "output_type": "stream",
     "text": [
      "(None, None)\n"
     ]
    },
    {
     "name": "stderr",
     "output_type": "stream",
     "text": [
      "Unclosed client session\n",
      "client_session: <aiohttp.client.ClientSession object at 0x130d0f6d0>\n",
      "Unclosed connector\n",
      "connections: ['[(<aiohttp.client_proto.ResponseHandler object at 0x13127c220>, 109180.25783275)]']\n",
      "connector: <aiohttp.connector.TCPConnector object at 0x130d0ec20>\n"
     ]
    },
    {
     "name": "stdout",
     "output_type": "stream",
     "text": [
      "(None, None)\n"
     ]
    },
    {
     "name": "stderr",
     "output_type": "stream",
     "text": [
      "Unclosed client session\n",
      "client_session: <aiohttp.client.ClientSession object at 0x130d0ec50>\n",
      "Unclosed connector\n",
      "connections: ['[(<aiohttp.client_proto.ResponseHandler object at 0x13127eb00>, 109180.631779583)]']\n",
      "connector: <aiohttp.connector.TCPConnector object at 0x130d0f880>\n"
     ]
    },
    {
     "name": "stdout",
     "output_type": "stream",
     "text": [
      "(None, None)\n"
     ]
    },
    {
     "name": "stderr",
     "output_type": "stream",
     "text": [
      "Unclosed client session\n",
      "client_session: <aiohttp.client.ClientSession object at 0x130cd9c60>\n",
      "Unclosed connector\n",
      "connections: ['[(<aiohttp.client_proto.ResponseHandler object at 0x13127e1a0>, 109181.026611666)]']\n",
      "connector: <aiohttp.connector.TCPConnector object at 0x130cd9ea0>\n"
     ]
    },
    {
     "name": "stdout",
     "output_type": "stream",
     "text": [
      "(None, None)\n"
     ]
    },
    {
     "name": "stderr",
     "output_type": "stream",
     "text": [
      "Unclosed client session\n",
      "client_session: <aiohttp.client.ClientSession object at 0x130d0f1c0>\n",
      "Unclosed connector\n",
      "connections: ['[(<aiohttp.client_proto.ResponseHandler object at 0x13127d1e0>, 109181.351755083)]']\n",
      "connector: <aiohttp.connector.TCPConnector object at 0x130d0f340>\n",
      "Unclosed client session\n",
      "client_session: <aiohttp.client.ClientSession object at 0x130d0fc10>\n",
      "Unclosed connector\n",
      "connections: ['[(<aiohttp.client_proto.ResponseHandler object at 0x13127d000>, 109181.682381625)]']\n",
      "connector: <aiohttp.connector.TCPConnector object at 0x130d0f460>\n"
     ]
    },
    {
     "name": "stdout",
     "output_type": "stream",
     "text": [
      "(None, None)\n"
     ]
    }
   ],
   "source": [
    "import warnings\n",
    "warnings.filterwarnings('ignore')\n",
    "market_summary = await calculate_market_summary(markets)"
   ]
  },
  {
   "cell_type": "code",
   "execution_count": 17,
   "id": "b552e172-5c9c-4931-b4e1-1cd53edccd83",
   "metadata": {},
   "outputs": [],
   "source": [
    "# oracle_mark_spread = market_summary['mark_price']-market_summary['oracle_price']\n",
    "\n",
    "# funding_whatif = np.sign(oracle_mark_spread)*abs(oracle_mark_spread - market_summary['oracle_conf'])\\\n",
    "# /market_summary['oracle_price']\n",
    "# pd.concat([funding_whatif, market_summary['next_funding_rate']],axis=1)\n",
    "# (funding_whatif - market_summary['next_funding_rate'])#/market_summary['next_funding_rate']"
   ]
  },
  {
   "cell_type": "code",
   "execution_count": 18,
   "id": "ad5f1973-a92a-457c-9ab7-968522d8fbec",
   "metadata": {},
   "outputs": [
    {
     "data": {
      "text/html": [
       "<div>\n",
       "<style scoped>\n",
       "    .dataframe tbody tr th:only-of-type {\n",
       "        vertical-align: middle;\n",
       "    }\n",
       "\n",
       "    .dataframe tbody tr th {\n",
       "        vertical-align: top;\n",
       "    }\n",
       "\n",
       "    .dataframe thead th {\n",
       "        text-align: right;\n",
       "    }\n",
       "</style>\n",
       "<table border=\"1\" class=\"dataframe\">\n",
       "  <thead>\n",
       "    <tr style=\"text-align: right;\">\n",
       "      <th></th>\n",
       "      <th>symbol</th>\n",
       "      <th>base_asset_symbol</th>\n",
       "      <th>market_index</th>\n",
       "      <th>next_funding_rate(%)</th>\n",
       "      <th>next_funding_rate_capped(%)</th>\n",
       "      <th>next_funding_rate(%APR)</th>\n",
       "      <th>mark_price</th>\n",
       "      <th>oracle_price</th>\n",
       "      <th>oracle_conf</th>\n",
       "    </tr>\n",
       "  </thead>\n",
       "  <tbody>\n",
       "    <tr>\n",
       "      <th>0</th>\n",
       "      <td>SOL-PERP</td>\n",
       "      <td>SOL</td>\n",
       "      <td>0</td>\n",
       "      <td>-0.000303</td>\n",
       "      <td>NaN</td>\n",
       "      <td>-2.66</td>\n",
       "      <td>110.236871</td>\n",
       "      <td>110.167708</td>\n",
       "      <td>0.122662</td>\n",
       "    </tr>\n",
       "    <tr>\n",
       "      <th>1</th>\n",
       "      <td>BTC-PERP</td>\n",
       "      <td>BTC</td>\n",
       "      <td>1</td>\n",
       "      <td>0.001382</td>\n",
       "      <td>NaN</td>\n",
       "      <td>12.11</td>\n",
       "      <td>40721.80424</td>\n",
       "      <td>40669.473000</td>\n",
       "      <td>17.957000</td>\n",
       "    </tr>\n",
       "    <tr>\n",
       "      <th>2</th>\n",
       "      <td>ETH-PERP</td>\n",
       "      <td>ETH</td>\n",
       "      <td>2</td>\n",
       "      <td>-0.002189</td>\n",
       "      <td>NaN</td>\n",
       "      <td>-19.19</td>\n",
       "      <td>2956.05543</td>\n",
       "      <td>2957.478500</td>\n",
       "      <td>0.417750</td>\n",
       "    </tr>\n",
       "    <tr>\n",
       "      <th>3</th>\n",
       "      <td>LUNA-PERP</td>\n",
       "      <td>LUNA</td>\n",
       "      <td>3</td>\n",
       "      <td>0.003208</td>\n",
       "      <td>NaN</td>\n",
       "      <td>28.12</td>\n",
       "      <td>52.731732</td>\n",
       "      <td>52.669854</td>\n",
       "      <td>0.054910</td>\n",
       "    </tr>\n",
       "    <tr>\n",
       "      <th>4</th>\n",
       "      <td>AVAX-PERP</td>\n",
       "      <td>AVAX</td>\n",
       "      <td>4</td>\n",
       "      <td>-0.001286</td>\n",
       "      <td>NaN</td>\n",
       "      <td>-11.27</td>\n",
       "      <td>75.981069</td>\n",
       "      <td>76.005171</td>\n",
       "      <td>0.090219</td>\n",
       "    </tr>\n",
       "    <tr>\n",
       "      <th>5</th>\n",
       "      <td>BNB-PERP</td>\n",
       "      <td>BNB</td>\n",
       "      <td>5</td>\n",
       "      <td>-0.002116</td>\n",
       "      <td>NaN</td>\n",
       "      <td>-18.55</td>\n",
       "      <td>395.960193</td>\n",
       "      <td>396.753730</td>\n",
       "      <td>0.288035</td>\n",
       "    </tr>\n",
       "    <tr>\n",
       "      <th>6</th>\n",
       "      <td>MATIC-PERP</td>\n",
       "      <td>MATIC</td>\n",
       "      <td>6</td>\n",
       "      <td>-0.001635</td>\n",
       "      <td>NaN</td>\n",
       "      <td>-14.33</td>\n",
       "      <td>1.671137</td>\n",
       "      <td>1.671870</td>\n",
       "      <td>0.001694</td>\n",
       "    </tr>\n",
       "    <tr>\n",
       "      <th>7</th>\n",
       "      <td>ATOM-PERP</td>\n",
       "      <td>ATOM</td>\n",
       "      <td>7</td>\n",
       "      <td>0.000357</td>\n",
       "      <td>NaN</td>\n",
       "      <td>3.13</td>\n",
       "      <td>30.726488</td>\n",
       "      <td>30.704276</td>\n",
       "      <td>0.014644</td>\n",
       "    </tr>\n",
       "    <tr>\n",
       "      <th>8</th>\n",
       "      <td>DOT-PERP</td>\n",
       "      <td>DOT</td>\n",
       "      <td>8</td>\n",
       "      <td>-0.001058</td>\n",
       "      <td>NaN</td>\n",
       "      <td>-9.28</td>\n",
       "      <td>20.103447</td>\n",
       "      <td>20.146164</td>\n",
       "      <td>0.018725</td>\n",
       "    </tr>\n",
       "    <tr>\n",
       "      <th>9</th>\n",
       "      <td>ADA-PERP</td>\n",
       "      <td>ADA</td>\n",
       "      <td>9</td>\n",
       "      <td>-0.014087</td>\n",
       "      <td>NaN</td>\n",
       "      <td>-123.49</td>\n",
       "      <td>1.113862</td>\n",
       "      <td>1.119950</td>\n",
       "      <td>0.000785</td>\n",
       "    </tr>\n",
       "    <tr>\n",
       "      <th>10</th>\n",
       "      <td>ALGO-PERP</td>\n",
       "      <td>ALGO</td>\n",
       "      <td>10</td>\n",
       "      <td>-0.007413</td>\n",
       "      <td>NaN</td>\n",
       "      <td>-64.98</td>\n",
       "      <td>0.983012</td>\n",
       "      <td>0.986442</td>\n",
       "      <td>0.000933</td>\n",
       "    </tr>\n",
       "  </tbody>\n",
       "</table>\n",
       "</div>"
      ],
      "text/plain": [
       "        symbol base_asset_symbol  market_index  next_funding_rate(%)  \\\n",
       "0     SOL-PERP               SOL             0             -0.000303   \n",
       "1     BTC-PERP               BTC             1              0.001382   \n",
       "2     ETH-PERP               ETH             2             -0.002189   \n",
       "3    LUNA-PERP              LUNA             3              0.003208   \n",
       "4    AVAX-PERP              AVAX             4             -0.001286   \n",
       "5     BNB-PERP               BNB             5             -0.002116   \n",
       "6   MATIC-PERP             MATIC             6             -0.001635   \n",
       "7    ATOM-PERP              ATOM             7              0.000357   \n",
       "8     DOT-PERP               DOT             8             -0.001058   \n",
       "9     ADA-PERP               ADA             9             -0.014087   \n",
       "10   ALGO-PERP              ALGO            10             -0.007413   \n",
       "\n",
       "    next_funding_rate_capped(%)  next_funding_rate(%APR)   mark_price  \\\n",
       "0                           NaN                    -2.66   110.236871   \n",
       "1                           NaN                    12.11  40721.80424   \n",
       "2                           NaN                   -19.19   2956.05543   \n",
       "3                           NaN                    28.12    52.731732   \n",
       "4                           NaN                   -11.27    75.981069   \n",
       "5                           NaN                   -18.55   395.960193   \n",
       "6                           NaN                   -14.33     1.671137   \n",
       "7                           NaN                     3.13    30.726488   \n",
       "8                           NaN                    -9.28    20.103447   \n",
       "9                           NaN                  -123.49     1.113862   \n",
       "10                          NaN                   -64.98     0.983012   \n",
       "\n",
       "    oracle_price  oracle_conf  \n",
       "0     110.167708     0.122662  \n",
       "1   40669.473000    17.957000  \n",
       "2    2957.478500     0.417750  \n",
       "3      52.669854     0.054910  \n",
       "4      76.005171     0.090219  \n",
       "5     396.753730     0.288035  \n",
       "6       1.671870     0.001694  \n",
       "7      30.704276     0.014644  \n",
       "8      20.146164     0.018725  \n",
       "9       1.119950     0.000785  \n",
       "10      0.986442     0.000933  "
      ]
     },
     "execution_count": 18,
     "metadata": {},
     "output_type": "execute_result"
    }
   ],
   "source": [
    "market_summary"
   ]
  },
  {
   "cell_type": "code",
   "execution_count": null,
   "id": "82395fb5-eddc-485a-a835-03422e4152a6",
   "metadata": {},
   "outputs": [],
   "source": []
  },
  {
   "cell_type": "code",
   "execution_count": null,
   "id": "bfd76669-9ac7-45d8-a02f-030f31e4bff9",
   "metadata": {},
   "outputs": [],
   "source": []
  },
  {
   "cell_type": "code",
   "execution_count": null,
   "id": "9de12fed-89d2-492b-9a74-facc0152b10b",
   "metadata": {},
   "outputs": [],
   "source": []
  },
  {
   "cell_type": "code",
   "execution_count": null,
   "id": "59bbcef7-9195-4973-8a75-5b1d2d979cc2",
   "metadata": {},
   "outputs": [],
   "source": []
  }
 ],
 "metadata": {
  "kernelspec": {
   "display_name": "Python 3.10.0 64-bit ('venv': venv)",
   "language": "python",
   "name": "python3100jvsc74a57bd0f9a55105823872d65e726b0cbb71e86ec4c59adbf774b41cfbf31de1872e13e3"
  },
  "language_info": {
   "codemirror_mode": {
    "name": "ipython",
    "version": 3
   },
   "file_extension": ".py",
   "mimetype": "text/x-python",
   "name": "python",
   "nbconvert_exporter": "python",
   "pygments_lexer": "ipython3",
   "version": "3.10.0"
  }
 },
 "nbformat": 4,
 "nbformat_minor": 5
}
