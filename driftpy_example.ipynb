{
 "cells": [
  {
   "cell_type": "code",
   "execution_count": null,
   "id": "91d4677e-b65b-46a6-a7d1-891553bf64e4",
   "metadata": {},
   "outputs": [],
   "source": [
    "# import sys\n",
    "# sys.path.insert(0, 'driftpy/src/')\n",
    "# import driftpy\n",
    "# driftpy.__file__"
   ]
  },
  {
   "cell_type": "code",
   "execution_count": null,
   "id": "540515bd-0605-458c-a705-356531309714",
   "metadata": {},
   "outputs": [],
   "source": [
    "%reload_ext autoreload\n",
    "%autoreload 2\n",
    "\n",
    "import pandas as pd\n",
    "import numpy as np\n",
    "pd.options.plotting.backend = \"plotly\""
   ]
  },
  {
   "cell_type": "markdown",
   "id": "0604276c-39a9-463f-8a3a-fc9f5c32a2b0",
   "metadata": {},
   "source": [
    "# LOAD devnet environment"
   ]
  },
  {
   "cell_type": "code",
   "execution_count": null,
   "id": "a2a6a7cf-c0b9-41e7-9361-38734592a885",
   "metadata": {},
   "outputs": [],
   "source": [
    "import os\n",
    "from driftpy.clearing_house import ClearingHouse\n",
    "from driftpy.clearing_house_user import ClearingHouseUser\n",
    "\n",
    "from arb_helpers import load_position_table, calculate_market_summary\n",
    "\n",
    "os.environ['ANCHOR_WALLET'] = os.path.expanduser('~/.config/solana/<YOURWALLET>.json')\n",
    "\n",
    "ENV = 'devnet'\n",
    "drift_acct = await ClearingHouse.create_from_env(ENV)\n",
    "drift_user = ClearingHouseUser(drift_acct, drift_acct.program.provider.wallet.public_key)"
   ]
  },
  {
   "cell_type": "code",
   "execution_count": null,
   "id": "a45fc630-c9e0-4b64-9b5b-0b8f5141eb1e",
   "metadata": {},
   "outputs": [],
   "source": [
    "from driftpy.constants.config import CONFIG"
   ]
  },
  {
   "cell_type": "code",
   "execution_count": null,
   "id": "7c440a35-18ea-4101-9b31-0a220805d1ea",
   "metadata": {},
   "outputs": [],
   "source": [
    "# pd.DataFrame((await drift_user.get_user_positions_account()).positions)"
   ]
  },
  {
   "cell_type": "code",
   "execution_count": null,
   "id": "402df59a-4012-45e3-9ad8-c3a7971d0601",
   "metadata": {},
   "outputs": [],
   "source": [
    "# market = await drift_user.clearing_house.get_market(0)\n",
    "# (await drift_user.get_position_value(0))/1e6"
   ]
  },
  {
   "cell_type": "markdown",
   "id": "b8ecee2a-f578-41de-808a-66d6498aa57f",
   "metadata": {},
   "source": [
    "# load user state info"
   ]
  },
  {
   "cell_type": "code",
   "execution_count": null,
   "id": "181fe284-0f05-4d4c-8709-a0a9ec6ad1f6",
   "metadata": {},
   "outputs": [],
   "source": [
    "?drift_acct.initialize_user_account_and_deposit_collateral"
   ]
  },
  {
   "cell_type": "code",
   "execution_count": null,
   "id": "99201be4-0f54-40df-b5cd-ea8573a31172",
   "metadata": {},
   "outputs": [],
   "source": [
    "drift_user_acct = await drift_user.get_user_account()\n",
    "balance = (drift_user_acct.collateral/1e6)\n",
    "balance"
   ]
  },
  {
   "cell_type": "code",
   "execution_count": null,
   "id": "7ba5d7b0",
   "metadata": {},
   "outputs": [],
   "source": [
    "position_table_df = await load_position_table(drift_acct)\n",
    "position_table_df"
   ]
  },
  {
   "cell_type": "code",
   "execution_count": null,
   "id": "07dbc90f",
   "metadata": {},
   "outputs": [],
   "source": [
    "QUOTE_PRECISION = 1e6\n",
    "async def get_margin_account_info(drift_user):\n",
    "    drift_user_acct = await drift_user.get_user_account()\n",
    "    margin_info = {}\n",
    "    margin_info['total_collateral'] = (await drift_user.get_total_collateral())/QUOTE_PRECISION\n",
    "    margin_info['collateral'] = (drift_user_acct.collateral/QUOTE_PRECISION)\n",
    "    margin_info['unrealised_pnl'] = (await drift_user.get_unrealised_pnl(0))/QUOTE_PRECISION\n",
    "    # margin_info['margin_ratio'] = await drift_user.get_margin_ratio()\n",
    "    margin_info['leverage'] = await drift_user.get_leverage()\n",
    "    # margin_info['free_collateral'] = (await drift_user.get_free_collateral())/QUOTE_PRECISION\n",
    "    return pd.Series(margin_info)\n",
    "\n",
    "await get_margin_account_info(drift_user)"
   ]
  },
  {
   "cell_type": "code",
   "execution_count": null,
   "id": "0bca9ac9-8898-4559-9ab5-5ba8f0596ae4",
   "metadata": {},
   "outputs": [],
   "source": [
    "from solana.publickey import PublicKey\n",
    "from spl.token.instructions import get_associated_token_address\n",
    "\n",
    "drift_state = await drift_acct.get_state_account()\n",
    "\n",
    "USDC_AMOUNT = 1\n",
    "USDC_AMOUNT_IN_FULL_PRECISION = int(USDC_AMOUNT * QUOTE_PRECISION)\n",
    "\n",
    "# get user authority associated usdc account address\n",
    "user_authority_usdc_account = get_associated_token_address( drift_acct.program.provider.wallet.public_key, \n",
    "                              PublicKey(CONFIG[ENV]['USDC_MINT_ADDRESS']))\n",
    "\n",
    "\n",
    "# withdraw and deposit 1 USDC\n",
    "await drift_acct.withdraw_collateral(USDC_AMOUNT_IN_FULL_PRECISION,\n",
    "                                     user_authority_usdc_account\n",
    "                                    )\n",
    "await drift_acct.deposit_collateral(USDC_AMOUNT_IN_FULL_PRECISION, \n",
    "                                    user_authority_usdc_account\n",
    "                                    )"
   ]
  },
  {
   "cell_type": "markdown",
   "id": "175d87b1-d844-4473-99f4-bd1515b16d93",
   "metadata": {},
   "source": [
    "# load predicted funding"
   ]
  },
  {
   "cell_type": "code",
   "execution_count": null,
   "id": "195a56e8-ddfb-4e9c-b835-57692798acd0",
   "metadata": {
    "scrolled": true,
    "tags": []
   },
   "outputs": [],
   "source": [
    "markets = await drift_acct.get_markets_account()\n",
    "market_summary = await calculate_market_summary(markets)"
   ]
  },
  {
   "cell_type": "code",
   "execution_count": null,
   "id": "ad5f1973-a92a-457c-9ab7-968522d8fbec",
   "metadata": {},
   "outputs": [],
   "source": [
    "market_summary"
   ]
  },
  {
   "cell_type": "code",
   "execution_count": null,
   "id": "d693b33e",
   "metadata": {},
   "outputs": [],
   "source": [
    "position_table_df"
   ]
  },
  {
   "cell_type": "code",
   "execution_count": null,
   "id": "1f9f25d1",
   "metadata": {},
   "outputs": [],
   "source": [
    "# check number of active positions\n",
    "\n",
    "if len(position_table_df.dropna())==5:\n",
    "    print('account at maximum positions (5)')\n",
    "else:\n",
    "    print('account has room for more positions')\n"
   ]
  },
  {
   "cell_type": "code",
   "execution_count": null,
   "id": "66f3048d",
   "metadata": {},
   "outputs": [],
   "source": [
    "# close smallest position (if less than $10)\n",
    "\n",
    "smallest_position = position_table_df.sort_values('notional').iloc[0]\n",
    "if smallest_position.notional < 10:\n",
    "    await drift_acct.close_position(int(smallest_position.market_index))\n",
    "else:\n",
    "    print('not closing position over $10')"
   ]
  },
  {
   "cell_type": "code",
   "execution_count": null,
   "id": "82395fb5-eddc-485a-a835-03422e4152a6",
   "metadata": {},
   "outputs": [],
   "source": [
    "# open a $1 LONG position in the most attractive markets for next funding\n",
    "\n",
    "from driftpy.types import PositionDirection\n",
    "market_to_trade = market_summary.sort_values('next_funding_rate(%)').iloc[0].market_index\n",
    "\n",
    "await drift_acct.open_position(PositionDirection.LONG(), int(1 * 1e6), market_to_trade)"
   ]
  },
  {
   "cell_type": "markdown",
   "id": "06014155-1f14-4316-b40d-3fb8bf16c689",
   "metadata": {},
   "source": [
    "# use ftx hedge"
   ]
  },
  {
   "cell_type": "code",
   "execution_count": null,
   "id": "59bbcef7-9195-4973-8a75-5b1d2d979cc2",
   "metadata": {},
   "outputs": [],
   "source": [
    "import json\n",
    "import os\n",
    "\n",
    "# construct secret ~/.ftx json file for api\n",
    "FTX_SECRET_FF = os.path.expanduser('~/.ftx')\n",
    "# ftx_secret = {\n",
    "#     'apiKey' : '', \n",
    "#     'secret' : '', \n",
    "#     'headers': {\n",
    "#         'FTX-SUBACCOUNT' : ''\n",
    "#     }\n",
    "# }\n",
    "# with open('FTX_SECRET_FF', 'w') as f:\n",
    "#     json.dump(ftx_secret, f)\n",
    "    \n",
    "ftx_secret = None\n",
    "with open(FTX_SECRET_FF, 'r') as f:\n",
    "    ftx_secret = json.load(f)"
   ]
  },
  {
   "cell_type": "code",
   "execution_count": null,
   "id": "60611330-3fe6-401d-a94f-20fede0e1cec",
   "metadata": {},
   "outputs": [],
   "source": [
    "# use ccxt library to interact with ftx\n",
    "# !pip install ccxt\n",
    "\n",
    "import ccxt\n",
    "import numpy as np\n",
    "import pandas as pd\n",
    "pd.options.plotting.backend = \"plotly\"\n",
    "\n",
    "ftx = ccxt.ftx(ftx_secret)\n",
    "pd.DataFrame(ftx.fetch_balance()['info']['result'])"
   ]
  },
  {
   "cell_type": "code",
   "execution_count": null,
   "id": "e96542f2-75a3-46f3-b49f-4a76b77b5579",
   "metadata": {},
   "outputs": [],
   "source": [
    "positions = pd.DataFrame(ftx.fetch_positions())\n",
    "print(positions.columns)\n",
    "positions[['symbol','notional',\n",
    "           'unrealizedPnl','contracts',\n",
    "           'markPrice', 'percentage', 'liquidationPrice',\n",
    "           'side',\n",
    "          ]]"
   ]
  },
  {
   "cell_type": "code",
   "execution_count": null,
   "id": "6215b892-d707-4a84-9c00-474774b1f44c",
   "metadata": {},
   "outputs": [],
   "source": [
    "mytrades = pd.DataFrame(ftx.fetch_my_trades())\n",
    "print(mytrades.columns)\n",
    "mytrades = mytrades[['datetime', 'symbol', 'takerOrMaker', 'side', 'amount', 'price', 'cost', 'fee']]\n",
    "mytrades.fee = mytrades.fee.apply(lambda x: x['cost'])\n",
    "mytrades"
   ]
  },
  {
   "cell_type": "code",
   "execution_count": null,
   "id": "c55534e6-3be5-43cb-a4b7-76ae0c26ec13",
   "metadata": {},
   "outputs": [],
   "source": [
    "ftx.createLimitOrder('XXX-PERP', 'buy', 1, 100, params={'postOnly':True})"
   ]
  },
  {
   "cell_type": "code",
   "execution_count": null,
   "id": "4650939a-1851-4fbb-ae49-097a7df48d6d",
   "metadata": {},
   "outputs": [],
   "source": [
    "pd.DataFrame(ftx.fetch_open_orders()).dropna(how='all',axis=1)"
   ]
  },
  {
   "cell_type": "code",
   "execution_count": null,
   "id": "1bd6befd-bc8b-4fe4-b51f-effe821a98d7",
   "metadata": {},
   "outputs": [],
   "source": [
    "ftx.cancelAllOrders()"
   ]
  }
 ],
 "metadata": {
  "interpreter": {
   "hash": "3fa7d699c2b17d804b5961ff26a0ff5e55c3cd2be4e9e99d9def1c2e93ac5e45"
  },
  "kernelspec": {
   "display_name": "Python 3.10.0 ('venv': venv)",
   "language": "python",
   "name": "python3100jvsc74a57bd0806b163d7c024250aa6369f432e4a1d244cd9bc843795d11fe72ccac8bd2447f"
  },
  "language_info": {
   "codemirror_mode": {
    "name": "ipython",
    "version": 3
   },
   "file_extension": ".py",
   "mimetype": "text/x-python",
   "name": "python",
   "nbconvert_exporter": "python",
   "pygments_lexer": "ipython3",
   "version": "3.10.0"
  }
 },
 "nbformat": 4,
 "nbformat_minor": 5
}
